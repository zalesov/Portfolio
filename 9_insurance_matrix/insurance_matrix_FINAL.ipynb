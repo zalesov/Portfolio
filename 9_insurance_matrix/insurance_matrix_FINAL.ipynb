{
 "cells": [
  {
   "cell_type": "markdown",
   "metadata": {},
   "source": [
    "# Algorithm for protection personal data of clients"
   ]
  },
  {
   "cell_type": "markdown",
   "metadata": {},
   "source": [
    "Task is to create an algorithm that can change customer tabular data without loss of quality for model training."
   ]
  },
  {
   "cell_type": "code",
   "execution_count": 1,
   "metadata": {},
   "outputs": [],
   "source": [
    "import pandas as pd\n",
    "import numpy as np\n",
    "\n",
    "\n",
    "from sklearn.model_selection import train_test_split\n",
    "from sklearn.metrics import r2_score\n",
    "from sklearn.linear_model import LinearRegression"
   ]
  },
  {
   "cell_type": "code",
   "execution_count": 2,
   "metadata": {},
   "outputs": [
    {
     "data": {
      "text/html": [
       "<div>\n",
       "<style scoped>\n",
       "    .dataframe tbody tr th:only-of-type {\n",
       "        vertical-align: middle;\n",
       "    }\n",
       "\n",
       "    .dataframe tbody tr th {\n",
       "        vertical-align: top;\n",
       "    }\n",
       "\n",
       "    .dataframe thead th {\n",
       "        text-align: right;\n",
       "    }\n",
       "</style>\n",
       "<table border=\"1\" class=\"dataframe\">\n",
       "  <thead>\n",
       "    <tr style=\"text-align: right;\">\n",
       "      <th></th>\n",
       "      <th>Пол</th>\n",
       "      <th>Возраст</th>\n",
       "      <th>Зарплата</th>\n",
       "      <th>Члены семьи</th>\n",
       "      <th>Страховые выплаты</th>\n",
       "    </tr>\n",
       "  </thead>\n",
       "  <tbody>\n",
       "    <tr>\n",
       "      <th>0</th>\n",
       "      <td>1</td>\n",
       "      <td>41.0</td>\n",
       "      <td>49600.0</td>\n",
       "      <td>1</td>\n",
       "      <td>0</td>\n",
       "    </tr>\n",
       "    <tr>\n",
       "      <th>1</th>\n",
       "      <td>0</td>\n",
       "      <td>46.0</td>\n",
       "      <td>38000.0</td>\n",
       "      <td>1</td>\n",
       "      <td>1</td>\n",
       "    </tr>\n",
       "    <tr>\n",
       "      <th>2</th>\n",
       "      <td>0</td>\n",
       "      <td>29.0</td>\n",
       "      <td>21000.0</td>\n",
       "      <td>0</td>\n",
       "      <td>0</td>\n",
       "    </tr>\n",
       "    <tr>\n",
       "      <th>3</th>\n",
       "      <td>0</td>\n",
       "      <td>21.0</td>\n",
       "      <td>41700.0</td>\n",
       "      <td>2</td>\n",
       "      <td>0</td>\n",
       "    </tr>\n",
       "    <tr>\n",
       "      <th>4</th>\n",
       "      <td>1</td>\n",
       "      <td>28.0</td>\n",
       "      <td>26100.0</td>\n",
       "      <td>0</td>\n",
       "      <td>0</td>\n",
       "    </tr>\n",
       "  </tbody>\n",
       "</table>\n",
       "</div>"
      ],
      "text/plain": [
       "   Пол  Возраст  Зарплата  Члены семьи  Страховые выплаты\n",
       "0    1     41.0   49600.0            1                  0\n",
       "1    0     46.0   38000.0            1                  1\n",
       "2    0     29.0   21000.0            0                  0\n",
       "3    0     21.0   41700.0            2                  0\n",
       "4    1     28.0   26100.0            0                  0"
      ]
     },
     "metadata": {},
     "output_type": "display_data"
    }
   ],
   "source": [
    "data = pd.read_csv('/Users/alexey_zalesov/Desktop/ya_prakrikum/ds/datasets/insurance.csv')\n",
    "display(data.head())\n",
    "\n"
   ]
  },
  {
   "cell_type": "markdown",
   "metadata": {},
   "source": [
    "* \t\tFeatures: gender, age and salary of the insured, the number of members of his family.\n",
    "* Target feature: the number of insurance payments to the client over the past 5 years."
   ]
  },
  {
   "cell_type": "code",
   "execution_count": 3,
   "metadata": {},
   "outputs": [
    {
     "name": "stdout",
     "output_type": "stream",
     "text": [
      "<class 'pandas.core.frame.DataFrame'>\n",
      "RangeIndex: 5000 entries, 0 to 4999\n",
      "Data columns (total 5 columns):\n",
      " #   Column             Non-Null Count  Dtype  \n",
      "---  ------             --------------  -----  \n",
      " 0   Пол                5000 non-null   int64  \n",
      " 1   Возраст            5000 non-null   float64\n",
      " 2   Зарплата           5000 non-null   float64\n",
      " 3   Члены семьи        5000 non-null   int64  \n",
      " 4   Страховые выплаты  5000 non-null   int64  \n",
      "dtypes: float64(2), int64(3)\n",
      "memory usage: 195.4 KB\n"
     ]
    }
   ],
   "source": [
    "data.info()"
   ]
  },
  {
   "cell_type": "code",
   "execution_count": 4,
   "metadata": {
    "scrolled": true
   },
   "outputs": [
    {
     "data": {
      "text/html": [
       "<div>\n",
       "<style scoped>\n",
       "    .dataframe tbody tr th:only-of-type {\n",
       "        vertical-align: middle;\n",
       "    }\n",
       "\n",
       "    .dataframe tbody tr th {\n",
       "        vertical-align: top;\n",
       "    }\n",
       "\n",
       "    .dataframe thead th {\n",
       "        text-align: right;\n",
       "    }\n",
       "</style>\n",
       "<table border=\"1\" class=\"dataframe\">\n",
       "  <thead>\n",
       "    <tr style=\"text-align: right;\">\n",
       "      <th></th>\n",
       "      <th>Пол</th>\n",
       "      <th>Возраст</th>\n",
       "      <th>Зарплата</th>\n",
       "      <th>Члены семьи</th>\n",
       "      <th>Страховые выплаты</th>\n",
       "    </tr>\n",
       "  </thead>\n",
       "  <tbody>\n",
       "    <tr>\n",
       "      <th>count</th>\n",
       "      <td>5000.000000</td>\n",
       "      <td>5000.000000</td>\n",
       "      <td>5000.000000</td>\n",
       "      <td>5000.000000</td>\n",
       "      <td>5000.000000</td>\n",
       "    </tr>\n",
       "    <tr>\n",
       "      <th>mean</th>\n",
       "      <td>0.499000</td>\n",
       "      <td>30.952800</td>\n",
       "      <td>39916.360000</td>\n",
       "      <td>1.194200</td>\n",
       "      <td>0.148000</td>\n",
       "    </tr>\n",
       "    <tr>\n",
       "      <th>std</th>\n",
       "      <td>0.500049</td>\n",
       "      <td>8.440807</td>\n",
       "      <td>9900.083569</td>\n",
       "      <td>1.091387</td>\n",
       "      <td>0.463183</td>\n",
       "    </tr>\n",
       "    <tr>\n",
       "      <th>min</th>\n",
       "      <td>0.000000</td>\n",
       "      <td>18.000000</td>\n",
       "      <td>5300.000000</td>\n",
       "      <td>0.000000</td>\n",
       "      <td>0.000000</td>\n",
       "    </tr>\n",
       "    <tr>\n",
       "      <th>25%</th>\n",
       "      <td>0.000000</td>\n",
       "      <td>24.000000</td>\n",
       "      <td>33300.000000</td>\n",
       "      <td>0.000000</td>\n",
       "      <td>0.000000</td>\n",
       "    </tr>\n",
       "    <tr>\n",
       "      <th>50%</th>\n",
       "      <td>0.000000</td>\n",
       "      <td>30.000000</td>\n",
       "      <td>40200.000000</td>\n",
       "      <td>1.000000</td>\n",
       "      <td>0.000000</td>\n",
       "    </tr>\n",
       "    <tr>\n",
       "      <th>75%</th>\n",
       "      <td>1.000000</td>\n",
       "      <td>37.000000</td>\n",
       "      <td>46600.000000</td>\n",
       "      <td>2.000000</td>\n",
       "      <td>0.000000</td>\n",
       "    </tr>\n",
       "    <tr>\n",
       "      <th>max</th>\n",
       "      <td>1.000000</td>\n",
       "      <td>65.000000</td>\n",
       "      <td>79000.000000</td>\n",
       "      <td>6.000000</td>\n",
       "      <td>5.000000</td>\n",
       "    </tr>\n",
       "  </tbody>\n",
       "</table>\n",
       "</div>"
      ],
      "text/plain": [
       "               Пол      Возраст      Зарплата  Члены семьи  Страховые выплаты\n",
       "count  5000.000000  5000.000000   5000.000000  5000.000000        5000.000000\n",
       "mean      0.499000    30.952800  39916.360000     1.194200           0.148000\n",
       "std       0.500049     8.440807   9900.083569     1.091387           0.463183\n",
       "min       0.000000    18.000000   5300.000000     0.000000           0.000000\n",
       "25%       0.000000    24.000000  33300.000000     0.000000           0.000000\n",
       "50%       0.000000    30.000000  40200.000000     1.000000           0.000000\n",
       "75%       1.000000    37.000000  46600.000000     2.000000           0.000000\n",
       "max       1.000000    65.000000  79000.000000     6.000000           5.000000"
      ]
     },
     "execution_count": 4,
     "metadata": {},
     "output_type": "execute_result"
    }
   ],
   "source": [
    "data.describe()"
   ]
  },
  {
   "cell_type": "markdown",
   "metadata": {},
   "source": [
    "### Pre-analysis\n",
    "\n",
    "Given a table: 5 columns of 5000 lines, 4 feature columns and 1 target column.\n",
    "You need to replace the column names, check for gaps, duplicates, you may need to change the \"Gender\" column from categorical to quantitative, you also need to change the data type in the \"Age\" and \"Salary\" columns."
   ]
  },
  {
   "cell_type": "code",
   "execution_count": 5,
   "metadata": {},
   "outputs": [
    {
     "data": {
      "text/html": [
       "<div>\n",
       "<style scoped>\n",
       "    .dataframe tbody tr th:only-of-type {\n",
       "        vertical-align: middle;\n",
       "    }\n",
       "\n",
       "    .dataframe tbody tr th {\n",
       "        vertical-align: top;\n",
       "    }\n",
       "\n",
       "    .dataframe thead th {\n",
       "        text-align: right;\n",
       "    }\n",
       "</style>\n",
       "<table border=\"1\" class=\"dataframe\">\n",
       "  <thead>\n",
       "    <tr style=\"text-align: right;\">\n",
       "      <th></th>\n",
       "      <th>gender</th>\n",
       "      <th>age</th>\n",
       "      <th>salary</th>\n",
       "      <th>family_members_count</th>\n",
       "      <th>insurance_case</th>\n",
       "    </tr>\n",
       "  </thead>\n",
       "  <tbody>\n",
       "    <tr>\n",
       "      <th>0</th>\n",
       "      <td>1</td>\n",
       "      <td>41.0</td>\n",
       "      <td>49600.0</td>\n",
       "      <td>1</td>\n",
       "      <td>0</td>\n",
       "    </tr>\n",
       "    <tr>\n",
       "      <th>1</th>\n",
       "      <td>0</td>\n",
       "      <td>46.0</td>\n",
       "      <td>38000.0</td>\n",
       "      <td>1</td>\n",
       "      <td>1</td>\n",
       "    </tr>\n",
       "    <tr>\n",
       "      <th>2</th>\n",
       "      <td>0</td>\n",
       "      <td>29.0</td>\n",
       "      <td>21000.0</td>\n",
       "      <td>0</td>\n",
       "      <td>0</td>\n",
       "    </tr>\n",
       "    <tr>\n",
       "      <th>3</th>\n",
       "      <td>0</td>\n",
       "      <td>21.0</td>\n",
       "      <td>41700.0</td>\n",
       "      <td>2</td>\n",
       "      <td>0</td>\n",
       "    </tr>\n",
       "    <tr>\n",
       "      <th>4</th>\n",
       "      <td>1</td>\n",
       "      <td>28.0</td>\n",
       "      <td>26100.0</td>\n",
       "      <td>0</td>\n",
       "      <td>0</td>\n",
       "    </tr>\n",
       "  </tbody>\n",
       "</table>\n",
       "</div>"
      ],
      "text/plain": [
       "   gender   age   salary  family_members_count  insurance_case\n",
       "0       1  41.0  49600.0                     1               0\n",
       "1       0  46.0  38000.0                     1               1\n",
       "2       0  29.0  21000.0                     0               0\n",
       "3       0  21.0  41700.0                     2               0\n",
       "4       1  28.0  26100.0                     0               0"
      ]
     },
     "metadata": {},
     "output_type": "display_data"
    }
   ],
   "source": [
    "data.set_axis(['gender', 'age', 'salary', 'family_members_count', 'insurance_case'], axis='columns', inplace=True)\n",
    "                \n",
    "\n",
    "display(data.head())\n",
    "\n",
    "\n",
    "\n"
   ]
  },
  {
   "cell_type": "code",
   "execution_count": 6,
   "metadata": {},
   "outputs": [
    {
     "data": {
      "text/plain": [
       "0"
      ]
     },
     "execution_count": 6,
     "metadata": {},
     "output_type": "execute_result"
    }
   ],
   "source": [
    "data['gender'].isna().sum()"
   ]
  },
  {
   "cell_type": "code",
   "execution_count": 7,
   "metadata": {},
   "outputs": [
    {
     "data": {
      "text/plain": [
       "0"
      ]
     },
     "execution_count": 7,
     "metadata": {},
     "output_type": "execute_result"
    }
   ],
   "source": [
    "data['age'].isna().sum()"
   ]
  },
  {
   "cell_type": "code",
   "execution_count": 8,
   "metadata": {},
   "outputs": [
    {
     "data": {
      "text/plain": [
       "0"
      ]
     },
     "execution_count": 8,
     "metadata": {},
     "output_type": "execute_result"
    }
   ],
   "source": [
    "data['salary'].isna().sum()"
   ]
  },
  {
   "cell_type": "code",
   "execution_count": 9,
   "metadata": {},
   "outputs": [
    {
     "data": {
      "text/plain": [
       "0"
      ]
     },
     "execution_count": 9,
     "metadata": {},
     "output_type": "execute_result"
    }
   ],
   "source": [
    "data['family_members_count'].isna().sum()"
   ]
  },
  {
   "cell_type": "code",
   "execution_count": 10,
   "metadata": {},
   "outputs": [
    {
     "data": {
      "text/plain": [
       "0"
      ]
     },
     "execution_count": 10,
     "metadata": {},
     "output_type": "execute_result"
    }
   ],
   "source": [
    "data['insurance_case'].isna().sum()"
   ]
  },
  {
   "cell_type": "code",
   "execution_count": 11,
   "metadata": {},
   "outputs": [
    {
     "data": {
      "text/plain": [
       "153"
      ]
     },
     "execution_count": 11,
     "metadata": {},
     "output_type": "execute_result"
    }
   ],
   "source": [
    "data.duplicated().sum()\n"
   ]
  },
  {
   "cell_type": "markdown",
   "metadata": {},
   "source": [
    "There are 153 duplicates in total, which is about 3% of the total number of lines. I propose to remove them. "
   ]
  },
  {
   "cell_type": "code",
   "execution_count": 12,
   "metadata": {},
   "outputs": [],
   "source": [
    "data_cleared = data.drop_duplicates().reset_index(drop=True)"
   ]
  },
  {
   "cell_type": "code",
   "execution_count": 13,
   "metadata": {},
   "outputs": [],
   "source": [
    "data['age'] = data['age'].astype('int')\n",
    "data['salary'] = data['salary'].astype('int')"
   ]
  },
  {
   "cell_type": "code",
   "execution_count": 14,
   "metadata": {},
   "outputs": [
    {
     "name": "stdout",
     "output_type": "stream",
     "text": [
      "<class 'pandas.core.frame.DataFrame'>\n",
      "RangeIndex: 5000 entries, 0 to 4999\n",
      "Data columns (total 5 columns):\n",
      " #   Column                Non-Null Count  Dtype\n",
      "---  ------                --------------  -----\n",
      " 0   gender                5000 non-null   int64\n",
      " 1   age                   5000 non-null   int64\n",
      " 2   salary                5000 non-null   int64\n",
      " 3   family_members_count  5000 non-null   int64\n",
      " 4   insurance_case        5000 non-null   int64\n",
      "dtypes: int64(5)\n",
      "memory usage: 195.4 KB\n"
     ]
    }
   ],
   "source": [
    "data.info()"
   ]
  },
  {
   "cell_type": "markdown",
   "metadata": {},
   "source": [
    "### Summary\n",
    "\n",
    "The data is loaded, examined, duplicates are removed, the required data types are changed, and the column names are also changed."
   ]
  },
  {
   "cell_type": "markdown",
   "metadata": {},
   "source": [
    "## Matrix multiplication"
   ]
  },
  {
   "cell_type": "markdown",
   "metadata": {},
   "source": [
    "- $X$ - feature matrix (zero column consists of ones)\n",
    "\n",
    "- $y$ — target feature vector\n",
    "\n",
    "- $P$ is the matrix by which features are multiplied\n",
    "\n",
    "- $w$ — vector of linear regression weights (zero element equals shift)"
   ]
  },
  {
   "cell_type": "markdown",
   "metadata": {},
   "source": [
    "Predictions:\n",
    "\n",
    "(Formula 1)\n",
    "$$\n",
    "a = Xw\n",
    "$$\n",
    "\n",
    "Learning objective:\n",
    "(formula 2)\n",
    "$$\n",
    "w = \\arg\\min_w MSE(Xw, y)\n",
    "$$\n",
    "\n",
    "Learning formula:\n",
    "(formula 3)\n",
    "$$\n",
    "w = (X^T X)^{-1} X^T y\n",
    "$$"
   ]
  },
  {
   "cell_type": "markdown",
   "metadata": {},
   "source": [
    "**Answer:**\n",
    "\n",
    "b. Will not change.\n",
    "\n",
    "\n",
    "\n",
    "**Rationale:**\n",
    "\n",
    "We will consider the formulas in the cell above as already proven\n",
    "\n",
    "then:\n",
    "\n",
    "$$\n",
    "w' = (((XP)^T)(XP)^{-1}(XP)^Ty =\n",
    "= (((P^T X^T)(XP))^{-1}(XP)^Ty =\n",
    "= ((P^T(X^T X))P)^{-1}(P^T X^T)y $$\n",
    "[because matrix multiplication is associative]\n",
    "\n",
    "$$\n",
    "= P^{-1} ((P^T(X^T X))^{-1}(P^T X^T)y =\n",
    "$$\n",
    "\n",
    "$$\n",
    "= P^{-1} (X^T X)^{-1} (P^T)^{-1} (P^T X^T)y=\n",
    "$$\n",
    "\n",
    "$$\n",
    "= P^{-1} (X^T X)^{-1} E X^T y=\n",
    "$$\n",
    "\n",
    "$$\n",
    "= P^{-1} (X^T X)^{-1} X^T y =\n",
    "$$\n",
    "\n",
    "[by formula 3:]\n",
    "\n",
    "$$\n",
    "= P^{-1} w\n",
    "$$\n",
    "\n",
    "\n",
    "\n",
    "\n",
    "\n"
   ]
  },
  {
   "cell_type": "markdown",
   "metadata": {},
   "source": [
    "$$\n",
    "=>w'=P^{-1}w\n",
    "$$  \n",
    "\n"
   ]
  },
  {
   "cell_type": "markdown",
   "metadata": {},
   "source": [
    "$$\n",
    "a'=XP*w'(формула1)\n",
    "=>a'=XP P^{-1}w(по-доказанному) = XEw = Xw = a (формула1)\n",
    "$$  \n",
    "\n",
    "\n"
   ]
  },
  {
   "cell_type": "markdown",
   "metadata": {},
   "source": [
    "Q.E.D."
   ]
  },
  {
   "cell_type": "markdown",
   "metadata": {},
   "source": [
    "## Conversion algorithm"
   ]
  },
  {
   "cell_type": "markdown",
   "metadata": {},
   "source": [
    "**Algorithm**\n",
    "\n",
    "##### Let's write a function that:\n",
    "1. Create the corresponding Random_state\n",
    "2. Create a \"random\" matrix with numpy.random.normal()\n",
    "3. Check it for reversibility - namely, does it exist inversely to it\n",
    "4. In the case (very unlikely) that the inverse matrix does not exist - return to step 2)\n",
    "5. Takes the original feature matrix, multiplies it by the created reversible\n",
    "6. Will return a new, \"modified\" matrix"
   ]
  },
  {
   "cell_type": "markdown",
   "metadata": {},
   "source": [
    "## Check"
   ]
  },
  {
   "cell_type": "markdown",
   "metadata": {},
   "source": [
    "#### Firstly,let's train the model on the unchanged feature matrix"
   ]
  },
  {
   "cell_type": "code",
   "execution_count": 15,
   "metadata": {},
   "outputs": [],
   "source": [
    "# разбиваем данные для обучения\n",
    "# так как нам не требуется выбирать лучшею модель или гиперпараметры, а нужно лишь проверить, что качество \n",
    "# предсказания модели не ухудшится, то разобьем данные: 0.75 на обучения, 0.25 для тестовой.\n",
    "\n",
    "#train, test = train_test_split \n",
    "features = data_cleared.drop('insurance_case', axis=1)\n",
    "target = data_cleared['insurance_case']\n",
    "\n",
    "features_train, features_test, target_train, target_test = train_test_split(features, target, test_size=0.25,\n",
    "                                                                           random_state=12345)\n"
   ]
  },
  {
   "cell_type": "code",
   "execution_count": 16,
   "metadata": {},
   "outputs": [
    {
     "name": "stdout",
     "output_type": "stream",
     "text": [
      "Метрика R2 модели на неизмененных данных составляет: 0.42307727492147573\n"
     ]
    }
   ],
   "source": [
    "#обучаем модель, считаем значение метрики r2\n",
    "\n",
    "model = LinearRegression()\n",
    "model.fit(features_train, target_train)\n",
    "predictions = model.predict(features_test)\n",
    "\n",
    "score = r2_score(target_test, predictions)\n",
    "\n",
    "print('Метрика R2 модели на неизмененных данных составляет:', score)"
   ]
  },
  {
   "cell_type": "code",
   "execution_count": 17,
   "metadata": {},
   "outputs": [],
   "source": [
    "#Реализуем сам алгоритм:\n",
    "\n",
    "\n",
    "def change_data(data):\n",
    "    length = data.shape[1]\n",
    "    np.random.seed(12345)\n",
    "    multiplicator = np.random.normal(size=(length,length))\n",
    "    print(multiplicator)\n",
    "    try:\n",
    "        np.linalg.inv(multiplicator)\n",
    "    except LinAlgError:\n",
    "        multiplicator = np.random.normal(size=(length,length))\n",
    "    \n",
    "    \n",
    "    return pd.DataFrame(np.dot(data, multiplicator), index = data.index, columns=data.columns)\n",
    "\n",
    "    \n",
    "    \n",
    "    \n",
    "    \n",
    "    "
   ]
  },
  {
   "cell_type": "markdown",
   "metadata": {},
   "source": [
    "Let's change the original feature matrix:"
   ]
  },
  {
   "cell_type": "code",
   "execution_count": 18,
   "metadata": {},
   "outputs": [
    {
     "name": "stdout",
     "output_type": "stream",
     "text": [
      "[[-0.20470766  0.47894334 -0.51943872 -0.5557303 ]\n",
      " [ 1.96578057  1.39340583  0.09290788  0.28174615]\n",
      " [ 0.76902257  1.24643474  1.00718936 -1.29622111]\n",
      " [ 0.27499163  0.22891288  1.35291684  0.88642934]]\n"
     ]
    }
   ],
   "source": [
    "features_changed = change_data(features)\n",
    "\n",
    "features_train_changed, features_test_changed, target_train, target_test = train_test_split(features_changed\n",
    "                                                                                            , target,\n",
    "                                                                                           test_size=0.25,\n",
    "                                                                                           random_state=12345)\n"
   ]
  },
  {
   "cell_type": "code",
   "execution_count": 19,
   "metadata": {},
   "outputs": [
    {
     "data": {
      "text/html": [
       "<div>\n",
       "<style scoped>\n",
       "    .dataframe tbody tr th:only-of-type {\n",
       "        vertical-align: middle;\n",
       "    }\n",
       "\n",
       "    .dataframe tbody tr th {\n",
       "        vertical-align: top;\n",
       "    }\n",
       "\n",
       "    .dataframe thead th {\n",
       "        text-align: right;\n",
       "    }\n",
       "</style>\n",
       "<table border=\"1\" class=\"dataframe\">\n",
       "  <thead>\n",
       "    <tr style=\"text-align: right;\">\n",
       "      <th></th>\n",
       "      <th>gender</th>\n",
       "      <th>age</th>\n",
       "      <th>salary</th>\n",
       "      <th>family_members_count</th>\n",
       "    </tr>\n",
       "  </thead>\n",
       "  <tbody>\n",
       "    <tr>\n",
       "      <th>0</th>\n",
       "      <td>38224.186641</td>\n",
       "      <td>61881.000420</td>\n",
       "      <td>49961.234837</td>\n",
       "      <td>-64280.684721</td>\n",
       "    </tr>\n",
       "    <tr>\n",
       "      <th>1</th>\n",
       "      <td>29313.558467</td>\n",
       "      <td>47428.845564</td>\n",
       "      <td>38278.822267</td>\n",
       "      <td>-49242.555394</td>\n",
       "    </tr>\n",
       "    <tr>\n",
       "      <th>2</th>\n",
       "      <td>16206.481556</td>\n",
       "      <td>26215.538233</td>\n",
       "      <td>21153.670838</td>\n",
       "      <td>-27212.472653</td>\n",
       "    </tr>\n",
       "    <tr>\n",
       "      <th>3</th>\n",
       "      <td>32110.072445</td>\n",
       "      <td>52006.047856</td>\n",
       "      <td>42004.453110</td>\n",
       "      <td>-54044.730722</td>\n",
       "    </tr>\n",
       "    <tr>\n",
       "      <th>4</th>\n",
       "      <td>20126.326163</td>\n",
       "      <td>32571.440926</td>\n",
       "      <td>26289.724215</td>\n",
       "      <td>-33824.037786</td>\n",
       "    </tr>\n",
       "  </tbody>\n",
       "</table>\n",
       "</div>"
      ],
      "text/plain": [
       "         gender           age        salary  family_members_count\n",
       "0  38224.186641  61881.000420  49961.234837         -64280.684721\n",
       "1  29313.558467  47428.845564  38278.822267         -49242.555394\n",
       "2  16206.481556  26215.538233  21153.670838         -27212.472653\n",
       "3  32110.072445  52006.047856  42004.453110         -54044.730722\n",
       "4  20126.326163  32571.440926  26289.724215         -33824.037786"
      ]
     },
     "metadata": {},
     "output_type": "display_data"
    }
   ],
   "source": [
    "display(features_changed.head())\n",
    "\n",
    "\n",
    "#display(features_train_new.head())"
   ]
  },
  {
   "cell_type": "code",
   "execution_count": 20,
   "metadata": {},
   "outputs": [
    {
     "data": {
      "text/plain": [
       "LinearRegression()"
      ]
     },
     "execution_count": 20,
     "metadata": {},
     "output_type": "execute_result"
    }
   ],
   "source": [
    "model_new = LinearRegression()\n",
    "model_new.fit(features_train_changed, target_train)\n"
   ]
  },
  {
   "cell_type": "code",
   "execution_count": 21,
   "metadata": {},
   "outputs": [],
   "source": [
    "predictions_new = model_new.predict(features_test_changed)"
   ]
  },
  {
   "cell_type": "code",
   "execution_count": 22,
   "metadata": {
    "scrolled": true
   },
   "outputs": [
    {
     "name": "stdout",
     "output_type": "stream",
     "text": [
      "0.4230772749212812\n"
     ]
    }
   ],
   "source": [
    "score_new = r2_score(target_test , predictions_new)\n",
    "print(score_new)"
   ]
  },
  {
   "cell_type": "code",
   "execution_count": 23,
   "metadata": {},
   "outputs": [
    {
     "name": "stdout",
     "output_type": "stream",
     "text": [
      "Значение метрики R2 изменилось на: 4.5985437679973984e-11 процентов\n"
     ]
    }
   ],
   "source": [
    "print('Значение метрики R2 изменилось на:', (score/score_new - 1)*100, 'процентов')"
   ]
  },
  {
   "cell_type": "markdown",
   "metadata": {},
   "source": [
    "### Conclusion\n",
    "\n",
    "The value of the R2 metric on the modified sample, compared to the original one, changed slightly (4.5^(10^-11)) percent.\n",
    "I consider the algorithm working, and the statement proven.\n",
    "\n"
   ]
  }
 ],
 "metadata": {
  "ExecuteTimeLog": [
   {
    "duration": 1633,
    "start_time": "2021-10-17T14:09:43.812Z"
   },
   {
    "duration": 48,
    "start_time": "2021-10-17T14:09:45.448Z"
   },
   {
    "duration": 12,
    "start_time": "2021-10-17T14:09:45.501Z"
   },
   {
    "duration": 71,
    "start_time": "2021-10-17T14:09:45.517Z"
   },
   {
    "duration": 16,
    "start_time": "2021-10-17T14:09:45.591Z"
   },
   {
    "duration": 14,
    "start_time": "2021-10-17T14:09:45.610Z"
   },
   {
    "duration": 11,
    "start_time": "2021-10-17T14:09:45.627Z"
   },
   {
    "duration": 5,
    "start_time": "2021-10-17T14:09:45.667Z"
   },
   {
    "duration": 7,
    "start_time": "2021-10-17T14:09:45.676Z"
   },
   {
    "duration": 12,
    "start_time": "2021-10-17T14:09:45.686Z"
   },
   {
    "duration": 11,
    "start_time": "2021-10-17T14:09:45.701Z"
   },
   {
    "duration": 8,
    "start_time": "2021-10-17T14:09:45.714Z"
   },
   {
    "duration": 43,
    "start_time": "2021-10-17T14:09:45.724Z"
   },
   {
    "duration": 9,
    "start_time": "2021-10-17T14:09:45.770Z"
   },
   {
    "duration": 23,
    "start_time": "2021-10-17T14:09:45.782Z"
   },
   {
    "duration": 13,
    "start_time": "2021-10-17T14:09:45.807Z"
   },
   {
    "duration": 5,
    "start_time": "2021-10-17T14:09:45.823Z"
   },
   {
    "duration": 47,
    "start_time": "2021-10-17T14:09:45.830Z"
   },
   {
    "duration": 99,
    "start_time": "2021-10-17T14:09:45.880Z"
   },
   {
    "duration": 91,
    "start_time": "2021-10-17T14:09:45.982Z"
   },
   {
    "duration": 5,
    "start_time": "2021-10-17T14:09:46.076Z"
   },
   {
    "duration": 9,
    "start_time": "2021-10-17T14:09:46.083Z"
   },
   {
    "duration": 7,
    "start_time": "2021-10-17T14:09:46.094Z"
   },
   {
    "duration": 1308,
    "start_time": "2021-10-17T14:10:49.571Z"
   },
   {
    "duration": 36,
    "start_time": "2021-10-17T14:10:50.882Z"
   },
   {
    "duration": 9,
    "start_time": "2021-10-17T14:10:50.921Z"
   },
   {
    "duration": 52,
    "start_time": "2021-10-17T14:10:50.933Z"
   },
   {
    "duration": 12,
    "start_time": "2021-10-17T14:10:50.988Z"
   },
   {
    "duration": 8,
    "start_time": "2021-10-17T14:10:51.002Z"
   },
   {
    "duration": 8,
    "start_time": "2021-10-17T14:10:51.013Z"
   },
   {
    "duration": 47,
    "start_time": "2021-10-17T14:10:51.023Z"
   },
   {
    "duration": 6,
    "start_time": "2021-10-17T14:10:51.074Z"
   },
   {
    "duration": 8,
    "start_time": "2021-10-17T14:10:51.083Z"
   },
   {
    "duration": 11,
    "start_time": "2021-10-17T14:10:51.093Z"
   },
   {
    "duration": 7,
    "start_time": "2021-10-17T14:10:51.106Z"
   },
   {
    "duration": 52,
    "start_time": "2021-10-17T14:10:51.115Z"
   },
   {
    "duration": 9,
    "start_time": "2021-10-17T14:10:51.170Z"
   },
   {
    "duration": 10,
    "start_time": "2021-10-17T14:10:51.181Z"
   },
   {
    "duration": 10,
    "start_time": "2021-10-17T14:10:51.193Z"
   },
   {
    "duration": 5,
    "start_time": "2021-10-17T14:10:51.206Z"
   },
   {
    "duration": 57,
    "start_time": "2021-10-17T14:10:51.213Z"
   },
   {
    "duration": 96,
    "start_time": "2021-10-17T14:10:51.273Z"
   },
   {
    "duration": 12,
    "start_time": "2021-10-17T14:10:51.372Z"
   },
   {
    "duration": 7,
    "start_time": "2021-10-17T14:10:51.386Z"
   },
   {
    "duration": 7,
    "start_time": "2021-10-17T14:10:51.396Z"
   },
   {
    "duration": 6,
    "start_time": "2021-10-17T14:10:51.407Z"
   }
  ],
  "kernelspec": {
   "display_name": "Python 3",
   "language": "python",
   "name": "python3"
  },
  "language_info": {
   "codemirror_mode": {
    "name": "ipython",
    "version": 3
   },
   "file_extension": ".py",
   "mimetype": "text/x-python",
   "name": "python",
   "nbconvert_exporter": "python",
   "pygments_lexer": "ipython3",
   "version": "3.8.5"
  },
  "toc": {
   "base_numbering": 1,
   "nav_menu": {},
   "number_sections": true,
   "sideBar": true,
   "skip_h1_title": true,
   "title_cell": "Содержание",
   "title_sidebar": "Contents",
   "toc_cell": true,
   "toc_position": {},
   "toc_section_display": true,
   "toc_window_display": false
  }
 },
 "nbformat": 4,
 "nbformat_minor": 2
}
