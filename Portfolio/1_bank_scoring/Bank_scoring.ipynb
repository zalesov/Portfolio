{
 "cells": [
  {
   "cell_type": "markdown",
   "metadata": {},
   "source": [
    "## Borrower Reliability Study\n",
    "\n",
    "The customer is the credit department of the bank. It is necessary to find out whether the marital status and the number of children of the client affect the fact of repaying the loan on time. Input data from the bank - statistics on the solvency of customers.\n",
    "\n",
    "The results of the study will be taken into account when building a **credit scoring** model - a special system that evaluates the ability of a potential borrower to return a loan to the bank."
   ]
  },
  {
   "cell_type": "code",
   "execution_count": null,
   "metadata": {},
   "outputs": [],
   "source": [
    "import pandas as pd\n",
    "from pymystem3 import Mystem"
   ]
  },
  {
   "cell_type": "code",
   "execution_count": 25,
   "metadata": {
    "scrolled": false
   },
   "outputs": [
    {
     "name": "stdout",
     "output_type": "stream",
     "text": [
      "<class 'pandas.core.frame.DataFrame'>\n",
      "RangeIndex: 21525 entries, 0 to 21524\n",
      "Data columns (total 12 columns):\n",
      " #   Column            Non-Null Count  Dtype  \n",
      "---  ------            --------------  -----  \n",
      " 0   children          21525 non-null  int64  \n",
      " 1   days_employed     19351 non-null  float64\n",
      " 2   dob_years         21525 non-null  int64  \n",
      " 3   education         21525 non-null  object \n",
      " 4   education_id      21525 non-null  int64  \n",
      " 5   family_status     21525 non-null  object \n",
      " 6   family_status_id  21525 non-null  int64  \n",
      " 7   gender            21525 non-null  object \n",
      " 8   income_type       21525 non-null  object \n",
      " 9   debt              21525 non-null  int64  \n",
      " 10  total_income      19351 non-null  float64\n",
      " 11  purpose           21525 non-null  object \n",
      "dtypes: float64(2), int64(5), object(5)\n",
      "memory usage: 2.0+ MB\n",
      "\n",
      "   children  days_employed  dob_years education  education_id  \\\n",
      "0         1   -8437.673028         42    высшее             0   \n",
      "1         1   -4024.803754         36   среднее             1   \n",
      "2         0   -5623.422610         33   Среднее             1   \n",
      "3         3   -4124.747207         32   среднее             1   \n",
      "4         0  340266.072047         53   среднее             1   \n",
      "5         0    -926.185831         27    высшее             0   \n",
      "6         0   -2879.202052         43    высшее             0   \n",
      "7         0    -152.779569         50   СРЕДНЕЕ             1   \n",
      "8         2   -6929.865299         35    ВЫСШЕЕ             0   \n",
      "9         0   -2188.756445         41   среднее             1   \n",
      "\n",
      "      family_status  family_status_id gender income_type  debt   total_income  \\\n",
      "0   женат / замужем                 0      F   сотрудник     0  253875.639453   \n",
      "1   женат / замужем                 0      F   сотрудник     0  112080.014102   \n",
      "2   женат / замужем                 0      M   сотрудник     0  145885.952297   \n",
      "3   женат / замужем                 0      M   сотрудник     0  267628.550329   \n",
      "4  гражданский брак                 1      F   пенсионер     0  158616.077870   \n",
      "5  гражданский брак                 1      M   компаньон     0  255763.565419   \n",
      "6   женат / замужем                 0      F   компаньон     0  240525.971920   \n",
      "7   женат / замужем                 0      M   сотрудник     0  135823.934197   \n",
      "8  гражданский брак                 1      F   сотрудник     0   95856.832424   \n",
      "9   женат / замужем                 0      M   сотрудник     0  144425.938277   \n",
      "\n",
      "                      purpose  \n",
      "0               покупка жилья  \n",
      "1     приобретение автомобиля  \n",
      "2               покупка жилья  \n",
      "3  дополнительное образование  \n",
      "4             сыграть свадьбу  \n",
      "5               покупка жилья  \n",
      "6           операции с жильем  \n",
      "7                 образование  \n",
      "8       на проведение свадьбы  \n",
      "9     покупка жилья для семьи  \n"
     ]
    }
   ],
   "source": [
    "data = pd.read_csv('/Users/alexey_zalesov/Desktop/ya_prakrikum/ds/datasets/data.csv')\n",
    "data.info()\n",
    "print()\n",
    "print(data.head(10))"
   ]
  },
  {
   "cell_type": "markdown",
   "metadata": {},
   "source": [
    "### Summary\n",
    "Values of the same meaning in the 'purpose' column differ in spelling (\"to play a wedding\" and \"to hold a wedding\"); there are identical values that differ in case. In total, there are data on 21525 clients, and there are 19351 non-zero lines on employment and total income - there are gaps, respectively. There are negative values in the \"days_employed\" column."
   ]
  },
  {
   "cell_type": "markdown",
   "metadata": {},
   "source": [
    "## Data preprocessing"
   ]
  },
  {
   "cell_type": "markdown",
   "metadata": {},
   "source": [
    "### Missing data"
   ]
  },
  {
   "cell_type": "code",
   "execution_count": 26,
   "metadata": {},
   "outputs": [
    {
     "name": "stdout",
     "output_type": "stream",
     "text": [
      "children               0\n",
      "days_employed       2174\n",
      "dob_years              0\n",
      "education              0\n",
      "education_id           0\n",
      "family_status          0\n",
      "family_status_id       0\n",
      "gender                 0\n",
      "income_type            0\n",
      "debt                   0\n",
      "total_income        2174\n",
      "purpose                0\n",
      "dtype: int64\n",
      "\n",
      "<class 'pandas.core.frame.DataFrame'>\n",
      "RangeIndex: 21525 entries, 0 to 21524\n",
      "Data columns (total 12 columns):\n",
      " #   Column            Non-Null Count  Dtype  \n",
      "---  ------            --------------  -----  \n",
      " 0   children          21525 non-null  int64  \n",
      " 1   days_employed     21525 non-null  float64\n",
      " 2   dob_years         21525 non-null  int64  \n",
      " 3   education         21525 non-null  object \n",
      " 4   education_id      21525 non-null  int64  \n",
      " 5   family_status     21525 non-null  object \n",
      " 6   family_status_id  21525 non-null  int64  \n",
      " 7   gender            21525 non-null  object \n",
      " 8   income_type       21525 non-null  object \n",
      " 9   debt              21525 non-null  int64  \n",
      " 10  total_income      21525 non-null  float64\n",
      " 11  purpose           21525 non-null  object \n",
      "dtypes: float64(2), int64(5), object(5)\n",
      "memory usage: 2.0+ MB\n"
     ]
    }
   ],
   "source": [
    "print(data.isnull().sum())\n",
    "#вместо среднего арифметического меняем на медиану \n",
    "mean_days_empoyed = data['days_employed'].median()\n",
    "mean_total_income = data['total_income'].median()\n",
    "data['days_employed'] = data['days_employed'].fillna(mean_days_empoyed)\n",
    "data['total_income'] = data['total_income'].fillna(mean_total_income)\n",
    "print()\n",
    "data.info() #проверка, что пропусков больше нет"
   ]
  },
  {
   "cell_type": "markdown",
   "metadata": {},
   "source": [
    "### Summary\n",
    "There are no gaps in the 'children', 'dob_years', 'education_id', 'income_type', 'debt' columns.\n",
    "There is a strange 'XNA' value in the 'gender' column - possibly an upload error.\n",
    "There are gaps in 'days_employed' and 'total_income'. There are 2174 of them - too many to simply remove. Since the number of gaps in both columns is the same, most likely the gaps are related: no information about the length of service - no income. The gaps have been replaced by the arithmetic mean of the respective columns."
   ]
  },
  {
   "cell_type": "markdown",
   "metadata": {},
   "source": [
    "### Changing data type"
   ]
  },
  {
   "cell_type": "code",
   "execution_count": 27,
   "metadata": {},
   "outputs": [
    {
     "data": {
      "text/plain": [
       "0         -8437\n",
       "1         -4024\n",
       "2         -5623\n",
       "3         -4124\n",
       "4        340266\n",
       "          ...  \n",
       "21520     -4529\n",
       "21521    343937\n",
       "21522     -2113\n",
       "21523     -3112\n",
       "21524     -1984\n",
       "Name: days_employed, Length: 21525, dtype: int64"
      ]
     },
     "execution_count": 27,
     "metadata": {},
     "output_type": "execute_result"
    }
   ],
   "source": [
    "data['total_income'].astype('int')\n",
    "data['days_employed'].astype('int')"
   ]
  },
  {
   "cell_type": "markdown",
   "metadata": {},
   "source": [
    "### Summary\n",
    "The values of both columns 'total_income' and 'days_employed' have been changed to integers. There are negative values in the 'days_employed' column, but since we do not need this column to answer the question, it was left unchanged. Since it is necessary to replace the real data type with an integer one, and the error resulting from changing the type is small, the astype() method is used."
   ]
  },
  {
   "cell_type": "markdown",
   "metadata": {},
   "source": [
    "### Duplicate data"
   ]
  },
  {
   "cell_type": "code",
   "execution_count": 28,
   "metadata": {},
   "outputs": [
    {
     "data": {
      "text/html": [
       "<div>\n",
       "<style scoped>\n",
       "    .dataframe tbody tr th:only-of-type {\n",
       "        vertical-align: middle;\n",
       "    }\n",
       "\n",
       "    .dataframe tbody tr th {\n",
       "        vertical-align: top;\n",
       "    }\n",
       "\n",
       "    .dataframe thead th {\n",
       "        text-align: right;\n",
       "    }\n",
       "</style>\n",
       "<table border=\"1\" class=\"dataframe\">\n",
       "  <thead>\n",
       "    <tr style=\"text-align: right;\">\n",
       "      <th></th>\n",
       "      <th>children</th>\n",
       "      <th>days_employed</th>\n",
       "      <th>dob_years</th>\n",
       "      <th>education</th>\n",
       "      <th>education_id</th>\n",
       "      <th>family_status</th>\n",
       "      <th>family_status_id</th>\n",
       "      <th>gender</th>\n",
       "      <th>income_type</th>\n",
       "      <th>debt</th>\n",
       "      <th>total_income</th>\n",
       "      <th>purpose</th>\n",
       "    </tr>\n",
       "  </thead>\n",
       "  <tbody>\n",
       "    <tr>\n",
       "      <th>0</th>\n",
       "      <td>1</td>\n",
       "      <td>-8437.673028</td>\n",
       "      <td>42</td>\n",
       "      <td>высшее</td>\n",
       "      <td>0</td>\n",
       "      <td>женат / замужем</td>\n",
       "      <td>0</td>\n",
       "      <td>F</td>\n",
       "      <td>сотрудник</td>\n",
       "      <td>0</td>\n",
       "      <td>253875.639453</td>\n",
       "      <td>покупка жилья</td>\n",
       "    </tr>\n",
       "    <tr>\n",
       "      <th>1</th>\n",
       "      <td>1</td>\n",
       "      <td>-4024.803754</td>\n",
       "      <td>36</td>\n",
       "      <td>среднее</td>\n",
       "      <td>1</td>\n",
       "      <td>женат / замужем</td>\n",
       "      <td>0</td>\n",
       "      <td>F</td>\n",
       "      <td>сотрудник</td>\n",
       "      <td>0</td>\n",
       "      <td>112080.014102</td>\n",
       "      <td>приобретение автомобиля</td>\n",
       "    </tr>\n",
       "    <tr>\n",
       "      <th>2</th>\n",
       "      <td>0</td>\n",
       "      <td>-5623.422610</td>\n",
       "      <td>33</td>\n",
       "      <td>Среднее</td>\n",
       "      <td>1</td>\n",
       "      <td>женат / замужем</td>\n",
       "      <td>0</td>\n",
       "      <td>M</td>\n",
       "      <td>сотрудник</td>\n",
       "      <td>0</td>\n",
       "      <td>145885.952297</td>\n",
       "      <td>покупка жилья</td>\n",
       "    </tr>\n",
       "    <tr>\n",
       "      <th>3</th>\n",
       "      <td>3</td>\n",
       "      <td>-4124.747207</td>\n",
       "      <td>32</td>\n",
       "      <td>среднее</td>\n",
       "      <td>1</td>\n",
       "      <td>женат / замужем</td>\n",
       "      <td>0</td>\n",
       "      <td>M</td>\n",
       "      <td>сотрудник</td>\n",
       "      <td>0</td>\n",
       "      <td>267628.550329</td>\n",
       "      <td>дополнительное образование</td>\n",
       "    </tr>\n",
       "    <tr>\n",
       "      <th>4</th>\n",
       "      <td>0</td>\n",
       "      <td>340266.072047</td>\n",
       "      <td>53</td>\n",
       "      <td>среднее</td>\n",
       "      <td>1</td>\n",
       "      <td>гражданский брак</td>\n",
       "      <td>1</td>\n",
       "      <td>F</td>\n",
       "      <td>пенсионер</td>\n",
       "      <td>0</td>\n",
       "      <td>158616.077870</td>\n",
       "      <td>сыграть свадьбу</td>\n",
       "    </tr>\n",
       "    <tr>\n",
       "      <th>...</th>\n",
       "      <td>...</td>\n",
       "      <td>...</td>\n",
       "      <td>...</td>\n",
       "      <td>...</td>\n",
       "      <td>...</td>\n",
       "      <td>...</td>\n",
       "      <td>...</td>\n",
       "      <td>...</td>\n",
       "      <td>...</td>\n",
       "      <td>...</td>\n",
       "      <td>...</td>\n",
       "      <td>...</td>\n",
       "    </tr>\n",
       "    <tr>\n",
       "      <th>21466</th>\n",
       "      <td>1</td>\n",
       "      <td>-4529.316663</td>\n",
       "      <td>43</td>\n",
       "      <td>среднее</td>\n",
       "      <td>1</td>\n",
       "      <td>гражданский брак</td>\n",
       "      <td>1</td>\n",
       "      <td>F</td>\n",
       "      <td>компаньон</td>\n",
       "      <td>0</td>\n",
       "      <td>224791.862382</td>\n",
       "      <td>операции с жильем</td>\n",
       "    </tr>\n",
       "    <tr>\n",
       "      <th>21467</th>\n",
       "      <td>0</td>\n",
       "      <td>343937.404131</td>\n",
       "      <td>67</td>\n",
       "      <td>среднее</td>\n",
       "      <td>1</td>\n",
       "      <td>женат / замужем</td>\n",
       "      <td>0</td>\n",
       "      <td>F</td>\n",
       "      <td>пенсионер</td>\n",
       "      <td>0</td>\n",
       "      <td>155999.806512</td>\n",
       "      <td>сделка с автомобилем</td>\n",
       "    </tr>\n",
       "    <tr>\n",
       "      <th>21468</th>\n",
       "      <td>1</td>\n",
       "      <td>-2113.346888</td>\n",
       "      <td>38</td>\n",
       "      <td>среднее</td>\n",
       "      <td>1</td>\n",
       "      <td>гражданский брак</td>\n",
       "      <td>1</td>\n",
       "      <td>M</td>\n",
       "      <td>сотрудник</td>\n",
       "      <td>1</td>\n",
       "      <td>89672.561153</td>\n",
       "      <td>недвижимость</td>\n",
       "    </tr>\n",
       "    <tr>\n",
       "      <th>21469</th>\n",
       "      <td>3</td>\n",
       "      <td>-3112.481705</td>\n",
       "      <td>38</td>\n",
       "      <td>среднее</td>\n",
       "      <td>1</td>\n",
       "      <td>женат / замужем</td>\n",
       "      <td>0</td>\n",
       "      <td>M</td>\n",
       "      <td>сотрудник</td>\n",
       "      <td>1</td>\n",
       "      <td>244093.050500</td>\n",
       "      <td>на покупку своего автомобиля</td>\n",
       "    </tr>\n",
       "    <tr>\n",
       "      <th>21470</th>\n",
       "      <td>2</td>\n",
       "      <td>-1984.507589</td>\n",
       "      <td>40</td>\n",
       "      <td>среднее</td>\n",
       "      <td>1</td>\n",
       "      <td>женат / замужем</td>\n",
       "      <td>0</td>\n",
       "      <td>F</td>\n",
       "      <td>сотрудник</td>\n",
       "      <td>0</td>\n",
       "      <td>82047.418899</td>\n",
       "      <td>на покупку автомобиля</td>\n",
       "    </tr>\n",
       "  </tbody>\n",
       "</table>\n",
       "<p>21471 rows × 12 columns</p>\n",
       "</div>"
      ],
      "text/plain": [
       "       children  days_employed  dob_years education  education_id  \\\n",
       "0             1   -8437.673028         42    высшее             0   \n",
       "1             1   -4024.803754         36   среднее             1   \n",
       "2             0   -5623.422610         33   Среднее             1   \n",
       "3             3   -4124.747207         32   среднее             1   \n",
       "4             0  340266.072047         53   среднее             1   \n",
       "...         ...            ...        ...       ...           ...   \n",
       "21466         1   -4529.316663         43   среднее             1   \n",
       "21467         0  343937.404131         67   среднее             1   \n",
       "21468         1   -2113.346888         38   среднее             1   \n",
       "21469         3   -3112.481705         38   среднее             1   \n",
       "21470         2   -1984.507589         40   среднее             1   \n",
       "\n",
       "          family_status  family_status_id gender income_type  debt  \\\n",
       "0       женат / замужем                 0      F   сотрудник     0   \n",
       "1       женат / замужем                 0      F   сотрудник     0   \n",
       "2       женат / замужем                 0      M   сотрудник     0   \n",
       "3       женат / замужем                 0      M   сотрудник     0   \n",
       "4      гражданский брак                 1      F   пенсионер     0   \n",
       "...                 ...               ...    ...         ...   ...   \n",
       "21466  гражданский брак                 1      F   компаньон     0   \n",
       "21467   женат / замужем                 0      F   пенсионер     0   \n",
       "21468  гражданский брак                 1      M   сотрудник     1   \n",
       "21469   женат / замужем                 0      M   сотрудник     1   \n",
       "21470   женат / замужем                 0      F   сотрудник     0   \n",
       "\n",
       "        total_income                       purpose  \n",
       "0      253875.639453                 покупка жилья  \n",
       "1      112080.014102       приобретение автомобиля  \n",
       "2      145885.952297                 покупка жилья  \n",
       "3      267628.550329    дополнительное образование  \n",
       "4      158616.077870               сыграть свадьбу  \n",
       "...              ...                           ...  \n",
       "21466  224791.862382             операции с жильем  \n",
       "21467  155999.806512          сделка с автомобилем  \n",
       "21468   89672.561153                  недвижимость  \n",
       "21469  244093.050500  на покупку своего автомобиля  \n",
       "21470   82047.418899         на покупку автомобиля  \n",
       "\n",
       "[21471 rows x 12 columns]"
      ]
     },
     "execution_count": 28,
     "metadata": {},
     "output_type": "execute_result"
    }
   ],
   "source": [
    "data['education'].str.lower()\n",
    "data['gender'].str.lower()\n",
    "data['income_type'].str.lower()\n",
    "data['purpose'].str.lower()\n",
    "data.duplicated().sum() #проверяем количество дупликатов\n",
    "data.drop_duplicates().reset_index(drop=True) #удаляем дупликаты "
   ]
  },
  {
   "cell_type": "markdown",
   "metadata": {},
   "source": [
    "### Summary\n",
    "Since there are only 54 duplicates, and this is a very small proportion of all data, you can simply delete it using the drop_duplicates() method. Since the number of duplicates is very small, most likely, duplicates appeared in the process of uploading or entering information. "
   ]
  },
  {
   "cell_type": "markdown",
   "metadata": {},
   "source": [
    "### Lemmatisation"
   ]
  },
  {
   "cell_type": "code",
   "execution_count": 29,
   "metadata": {},
   "outputs": [
    {
     "name": "stdout",
     "output_type": "stream",
     "text": [
      "   children  days_employed  dob_years education  education_id  \\\n",
      "0         1   -8437.673028         42    высшее             0   \n",
      "1         1   -4024.803754         36   среднее             1   \n",
      "2         0   -5623.422610         33   Среднее             1   \n",
      "3         3   -4124.747207         32   среднее             1   \n",
      "4         0  340266.072047         53   среднее             1   \n",
      "\n",
      "      family_status  family_status_id gender income_type  debt   total_income  \\\n",
      "0   женат / замужем                 0      F   сотрудник     0  253875.639453   \n",
      "1   женат / замужем                 0      F   сотрудник     0  112080.014102   \n",
      "2   женат / замужем                 0      M   сотрудник     0  145885.952297   \n",
      "3   женат / замужем                 0      M   сотрудник     0  267628.550329   \n",
      "4  гражданский брак                 1      F   пенсионер     0  158616.077870   \n",
      "\n",
      "                      purpose          lemmatized_purpose categorized_purpose  \n",
      "0               покупка жилья               покупка жилье        недвижимость  \n",
      "1     приобретение автомобиля     приобретение автомобиль          автомобиль  \n",
      "2               покупка жилья               покупка жилье        недвижимость  \n",
      "3  дополнительное образование  дополнительный образование         образование  \n",
      "4             сыграть свадьбу             сыграть свадьба             свадьба  \n",
      "['недвижимость' 'автомобиль' 'образование' 'свадьба' 'строительство'\n",
      " 'ремонт']\n"
     ]
    }
   ],
   "source": [
    "from pymystem3 import Mystem\n",
    "m = Mystem()\n",
    "\n",
    "lemmas_list = []\n",
    "def lemmatize(data):\n",
    "    lemmas = ''.join(m.lemmatize(data)).strip(\"\\n\")\n",
    "    lemmas_list.append(lemmas)\n",
    "    return lemmas\n",
    "    \n",
    "data['lemmatized_purpose'] =  data['purpose'].apply(lemmatize)\n",
    "#lemmas_dict=set(lemmas_list)\n",
    "#print(lemmas_dict) #смотрим леммы\n",
    "\n",
    "def purpose_category(row):\n",
    "    if 'свадьба' in row:\n",
    "        return 'свадьба'\n",
    "    if 'строительство' in row:\n",
    "        return 'строительство'\n",
    "    if 'недвижимость' in row:\n",
    "        return 'недвижимость'\n",
    "    if 'автомобиль' in row:\n",
    "        return 'автомобиль'\n",
    "    if 'ремонт' in row:\n",
    "        return 'ремонт'\n",
    "    if 'образование' in row:\n",
    "        return 'образование'\n",
    "    if 'жилье' in row:\n",
    "        return 'недвижимость'\n",
    "    pass\n",
    "\n",
    "\n",
    "#создаем новый столбец с категориями целей получения кредита\n",
    "data['categorized_purpose'] =  data['lemmatized_purpose'].apply(purpose_category) \n",
    "print(data.head())\n",
    "\n",
    "print(data['categorized_purpose'].unique())\n",
    "\n",
    "\n",
    "\n"
   ]
  },
  {
   "cell_type": "markdown",
   "metadata": {},
   "source": [
    "### Summary\n",
    "Two new columns were created, lemmatization was carried out, and after that - categorization by goals (construction of real estate, education, repair (of a car or housing), holding a wedding, buying a car)."
   ]
  },
  {
   "cell_type": "markdown",
   "metadata": {},
   "source": [
    "### Categorical Data"
   ]
  },
  {
   "cell_type": "code",
   "execution_count": 30,
   "metadata": {},
   "outputs": [
    {
     "name": "stdout",
     "output_type": "stream",
     "text": [
      "   children  days_employed  dob_years education  education_id  \\\n",
      "0         1   -8437.673028         42    высшее             0   \n",
      "1         1   -4024.803754         36   среднее             1   \n",
      "2         0   -5623.422610         33   Среднее             1   \n",
      "3         3   -4124.747207         32   среднее             1   \n",
      "4         0  340266.072047         53   среднее             1   \n",
      "\n",
      "      family_status  family_status_id gender income_type  debt   total_income  \\\n",
      "0   женат / замужем                 0      F   сотрудник     0  253875.639453   \n",
      "1   женат / замужем                 0      F   сотрудник     0  112080.014102   \n",
      "2   женат / замужем                 0      M   сотрудник     0  145885.952297   \n",
      "3   женат / замужем                 0      M   сотрудник     0  267628.550329   \n",
      "4  гражданский брак                 1      F   пенсионер     0  158616.077870   \n",
      "\n",
      "                      purpose          lemmatized_purpose categorized_purpose  \\\n",
      "0               покупка жилья               покупка жилье        недвижимость   \n",
      "1     приобретение автомобиля     приобретение автомобиль          автомобиль   \n",
      "2               покупка жилья               покупка жилье        недвижимость   \n",
      "3  дополнительное образование  дополнительный образование         образование   \n",
      "4             сыграть свадьбу             сыграть свадьба             свадьба   \n",
      "\n",
      "   kids_status  marriage_status income_status  \n",
      "0            1                2           top  \n",
      "1            1                2       average  \n",
      "2            0                2       average  \n",
      "3            1                2           top  \n",
      "4            0                1          high  \n"
     ]
    }
   ],
   "source": [
    "#создадим столбец kids_status - значение 1, если дети есть и 0, если их нет\n",
    "def kids_status(kids):\n",
    "    a=1\n",
    "    b=0\n",
    "    if kids >= 1:\n",
    "        return a\n",
    "    else:\n",
    "        return b\n",
    "data['kids_status'] = data['children'].apply(kids_status)\n",
    "#print(data.head())\n",
    "#создадим столбец marriage_status, 0 - не женат или не замужем, 1 - гражданский брак, 2 - женат или замежум, 3 - в разводе, 4 - вдовец или вдова. \n",
    "data['family_status'].value_counts()\n",
    "def marriage_status(status):\n",
    "    a = 0\n",
    "    b = 1\n",
    "    c = 2\n",
    "    d = 3\n",
    "    e = 4\n",
    "    if status == 'женат / замужем':\n",
    "        return 2\n",
    "    if status == 'гражданский брак':\n",
    "        return 1\n",
    "    if status == 'Не женат / не замужем':\n",
    "        return 0\n",
    "    if status == 'в разводе':\n",
    "        return 3\n",
    "    else:\n",
    "        return 4\n",
    "data['marriage_status'] = data['family_status'].apply(marriage_status)\n",
    "#создадим столбец income_status, категоризирующий данные по уровню дохода по \n",
    "data['total_income'].quantile([.25, .5, .75]) #находим границы квантилей\n",
    "#0.25.   107798.172619\n",
    "\n",
    "#0.50    156400.319836\n",
    "#0.75    195543.620942\n",
    "\n",
    "def income_type(income):\n",
    "    if income<=107798.172619:\n",
    "        return 'small'\n",
    "    if 107798.172619<income<=156400.319836:\n",
    "        return 'average'\n",
    "    if 156400.319836<income<=195543.620942:\n",
    "        return 'high'\n",
    "    else:\n",
    "        return 'top'\n",
    "\n",
    "data['income_status'] = data['total_income'].apply(income_type)\n",
    "print(data.head())"
   ]
  },
  {
   "cell_type": "markdown",
   "metadata": {},
   "source": [
    "### Summary\n",
    "The categorization was carried out to answer the questions posed in the future. The \"dictionaries\" of these borrowers with and without children, according to the type of marital status, different income levels and purposes of obtaining a loan, are singled out."
   ]
  },
  {
   "cell_type": "markdown",
   "metadata": {},
   "source": [
    "###  Questions:"
   ]
  },
  {
   "cell_type": "markdown",
   "metadata": {},
   "source": [
    "- Is there a relationship between having children and repaying a loan on time?"
   ]
  },
  {
   "cell_type": "code",
   "execution_count": 31,
   "metadata": {},
   "outputs": [
    {
     "name": "stdout",
     "output_type": "stream",
     "text": [
      "kids_status                     0            1\n",
      "debt                                          \n",
      "0                    13132.000000  6652.000000\n",
      "1                     1064.000000   677.000000\n",
      "total_clients        14196.000000  7329.000000\n",
      "debt_of_all_clients      0.074951     0.092373\n"
     ]
    }
   ],
   "source": [
    "#для ответа на этот вопрос сравним соотношение должников с детьми и без детей к общему количеству должников\n",
    "#общее количество должников\n",
    "data[data['debt']==1].count() \n",
    "total_debtors = 1741\n",
    "#общее количество должников, у которых есть дети\n",
    "data[(data['debt']==1) & (data['kids_status']==1)].count()\n",
    "debtors_with_kids = 677\n",
    "#получается, должников без детей: 1741-677=1064\n",
    "debtors_without_kids = 1064\n",
    "\n",
    "debtors_part_with_kids = debtors_with_kids / total_debtors\n",
    "debtors_part_without_kids = debtors_without_kids / total_debtors\n",
    "#print(debtors_part_with_kids, 'Доля должников с детьми')\n",
    "#print(debtors_part_without_kids, 'Доля должников без детей')\n",
    "\n",
    "\n",
    "df_kids = data.pivot_table(index = 'debt', columns = 'kids_status', values = 'education', aggfunc = 'count'  )\n",
    "df_kids = df_kids.transpose()\n",
    "df_kids['total_clients'] = df_kids[1] + df_kids[0]\n",
    "df_kids['debt_of_all_clients'] = df_kids[1] / df_kids['total_clients']\n",
    "df_kids = df_kids.transpose()\n",
    "print(df_kids)\n"
   ]
  },
  {
   "cell_type": "markdown",
   "metadata": {},
   "source": [
    "### Summary\n",
    "Since the proportion of debtors with children is much less than the proportion of debtors without children, it can be said that a borrower with children is more likely to repay a loan than a borrower without children."
   ]
  },
  {
   "cell_type": "markdown",
   "metadata": {},
   "source": [
    "- Is there a relationship between marital status and loan repayment on time?"
   ]
  },
  {
   "cell_type": "code",
   "execution_count": 32,
   "metadata": {},
   "outputs": [
    {
     "name": "stdout",
     "output_type": "stream",
     "text": [
      "0.15738081562320505 доля должников, которые не женаты/не замужем\n",
      "0.22286042504307868 доля должников, которые в гражданском браке\n",
      "0.5347501435956347 доля должников, которые женаты\n",
      "0.048822515795519814 доля должников в разводе\n",
      "0.03618609994256174 доля должников, которые овдовели\n",
      "marriage_status                0           1             2           3  \\\n",
      "debt                                                                     \n",
      "0                    2539.000000  3789.00000  11449.000000  1110.00000   \n",
      "1                     274.000000   388.00000    931.000000    85.00000   \n",
      "total_clients        2813.000000  4177.00000  12380.000000  1195.00000   \n",
      "debt_of_all_clients     0.097405     0.09289      0.075202     0.07113   \n",
      "\n",
      "marriage_status               4  \n",
      "debt                             \n",
      "0                    897.000000  \n",
      "1                     63.000000  \n",
      "total_clients        960.000000  \n",
      "debt_of_all_clients    0.065625  \n"
     ]
    }
   ],
   "source": [
    "#категории: 0 - не женат или не замужем, \n",
    "#1 - гражданский брак, 2 - женат или замужем, 3 - в разводе, 4 - вдовец или вдова. \n",
    "data[(data['debt']==1) & (data['marriage_status']==0)].count()\n",
    "bachelors_debtors = 274\n",
    "data[(data['debt']==1) & (data['marriage_status']==1)].count()\n",
    "civil_marriage_debtors = 388\n",
    "data[(data['debt']==1) & (data['marriage_status']==2)].count()\n",
    "married_debtors = 931\n",
    "data[(data['debt']==1) & (data['marriage_status']==3)].count()\n",
    "divorced_debtors = 85\n",
    "data[(data['debt']==1) & (data['marriage_status']==4)].count()\n",
    "widow_debtors = 63\n",
    "\n",
    "part_b_d = bachelors_debtors / total_debtors\n",
    "part_c_d = civil_marriage_debtors / total_debtors\n",
    "part_m_d = married_debtors / total_debtors\n",
    "part_d_d = divorced_debtors / total_debtors\n",
    "part_w_d = widow_debtors / total_debtors\n",
    "\n",
    "print(part_b_d, 'доля должников, которые не женаты/не замужем')\n",
    "print(part_c_d, 'доля должников, которые в гражданском браке')\n",
    "print(part_m_d, 'доля должников, которые женаты')\n",
    "print(part_d_d, 'доля должников в разводе')\n",
    "print(part_w_d, 'доля должников, которые овдовели')\n",
    "\n",
    "data_marriage_debt = data.pivot_table(index = 'debt', columns = 'marriage_status', values = 'education', aggfunc = 'count'  )\n",
    "data_marriage_debt = data_marriage_debt.transpose()\n",
    "data_marriage_debt['total_clients'] = data_marriage_debt[1] + data_marriage_debt[0]\n",
    "data_marriage_debt['debt_of_all_clients'] = data_marriage_debt[1] / data_marriage_debt['total_clients']\n",
    "data_marriage_debt = data_marriage_debt.transpose()\n",
    "print(data_marriage_debt)\n"
   ]
  },
  {
   "cell_type": "markdown",
   "metadata": {},
   "source": [
    "### Summary\n",
    "There is a relationship between marital status and loan repayment on time - the shares of debtors with different marital status differ significantly. Most likely, borrowers without a partner carry fewer risks and have fewer obligations than borrowers with a partner, and even more so borrowers who are married. Divorced people, most likely, are older than the first three groups, respectively, they are more likely to have a better education and carry fewer risks - they have more certainty. Widowed people are likely to be even older and carry even fewer risks. "
   ]
  },
  {
   "cell_type": "markdown",
   "metadata": {},
   "source": [
    "- Is there a relationship between income level and loan repayment on time?"
   ]
  },
  {
   "cell_type": "code",
   "execution_count": 33,
   "metadata": {},
   "outputs": [
    {
     "name": "stdout",
     "output_type": "stream",
     "text": [
      "0.22171165996553704 доля должников с самым высоким уровнем дохода\n",
      "0.2619184376794945 доля должников с  высоким уровнем дохода\n",
      "0.27110855829982766 доля должников со средним уровнем дохода\n",
      "0.24526134405514072 доля должников с маленьким уровнем дохода\n",
      "categorized_purpose   автомобиль  недвижимость  образование     ремонт  \\\n",
      "debt                                                                     \n",
      "0                    3912.000000   7744.000000  3652.000000  577.00000   \n",
      "1                     403.000000    603.000000   370.000000   35.00000   \n",
      "total_clients        4315.000000   8347.000000  4022.000000  612.00000   \n",
      "debt_of_all_clients     0.093395      0.072242     0.091994    0.05719   \n",
      "\n",
      "categorized_purpose      свадьба  строительство  \n",
      "debt                                             \n",
      "0                    2162.000000    1737.000000  \n",
      "1                     186.000000     144.000000  \n",
      "total_clients        2348.000000    1881.000000  \n",
      "debt_of_all_clients     0.079216       0.076555  \n"
     ]
    }
   ],
   "source": [
    "\n",
    "data[(data['debt']==1) & (data['income_status']=='top')].count()\n",
    "debtors_top_income = 386\n",
    "data[(data['debt']==1) & (data['income_status']=='high')].count()\n",
    "debtors_high_income = 456\n",
    "data[(data['debt']==1) & (data['income_status']=='average')].count()\n",
    "debtors_average_income = 472\n",
    "data[(data['debt']==1) & (data['income_status']=='small')].count()\n",
    "debtors_small_income = 427\n",
    "\n",
    "print(debtors_top_income / total_debtors, 'доля должников с самым высоким уровнем дохода')\n",
    "print(debtors_high_income / total_debtors, 'доля должников с  высоким уровнем дохода')\n",
    "print(debtors_average_income / total_debtors, 'доля должников со средним уровнем дохода')\n",
    "print(debtors_small_income / total_debtors, 'доля должников с маленьким уровнем дохода')\n",
    "\n",
    "df_income_level = data.pivot_table(index = 'debt', columns = 'categorized_purpose', values = 'education', aggfunc = 'count')\n",
    "df_income_level = df_income_level.transpose()\n",
    "df_income_level['total_clients'] = df_income_level[1] + df_income_level[0]\n",
    "df_income_level['debt_of_all_clients'] = df_income_level[1] / df_income_level['total_clients']\n",
    "df_income_level = df_income_level.transpose()\n",
    "print(df_income_level)"
   ]
  },
  {
   "cell_type": "markdown",
   "metadata": {},
   "source": [
    "### Summary\n",
    "Debt is more likely to be repaid by a person in the first or last income quintile. This may be because it is easiest for them to maintain their income level, while the \"middle\" is more difficult and more likely to \"lose\" their current income level and fail to meet their income obligation."
   ]
  },
  {
   "cell_type": "markdown",
   "metadata": {},
   "source": [
    "- How do different purposes of a loan affect its repayment on time?"
   ]
  },
  {
   "cell_type": "code",
   "execution_count": 34,
   "metadata": {},
   "outputs": [
    {
     "name": "stdout",
     "output_type": "stream",
     "text": [
      "0.3463526708788053 доля должников с целью покупки недвижимости\n",
      "0.231476163124641 доля должников с целью покупки личного автомобиля\n",
      "0.08271108558299828 доля должников с целью строительства недвижимости\n",
      "0.020103388856978748 доля должников с целью ремонта\n",
      "0.10683515221137277 доля должников с целью проведения свадьбы\n",
      "0.2125215393452039 доля должников с целью улучшения образования\n",
      "categorized_purpose   автомобиль  недвижимость  образование     ремонт  \\\n",
      "debt                                                                     \n",
      "0                    3912.000000   7744.000000  3652.000000  577.00000   \n",
      "1                     403.000000    603.000000   370.000000   35.00000   \n",
      "total_clients        4315.000000   8347.000000  4022.000000  612.00000   \n",
      "debt_of_all_clients     0.093395      0.072242     0.091994    0.05719   \n",
      "\n",
      "categorized_purpose      свадьба  строительство  \n",
      "debt                                             \n",
      "0                    2162.000000    1737.000000  \n",
      "1                     186.000000     144.000000  \n",
      "total_clients        2348.000000    1881.000000  \n",
      "debt_of_all_clients     0.079216       0.076555  \n"
     ]
    }
   ],
   "source": [
    "#сравним доли должников с разными целями\n",
    "data[(data['debt']==1) & (data['categorized_purpose']=='свадьба')].count()\n",
    "marriage_payment = 186\n",
    "data[(data['debt']==1) & (data['categorized_purpose']=='автомобиль')].count()\n",
    "buy_car = 403\n",
    "data[(data['debt']==1) & (data['categorized_purpose']=='ремонт')].count()\n",
    "repair_payment = 35\n",
    "data[(data['debt']==1) & (data['categorized_purpose']=='образование')].count()\n",
    "education_payment = 370\n",
    "data[(data['debt']==1) & (data['categorized_purpose']=='строительство')].count()\n",
    "building_estate = 144\n",
    "data[(data['debt']==1) & (data['categorized_purpose']=='недвижимость')].count()  \n",
    "estate_purchase = 603\n",
    "\n",
    "print(estate_purchase/total_debtors, 'доля должников с целью покупки недвижимости')\n",
    "print(buy_car/total_debtors, 'доля должников с целью покупки личного автомобиля')\n",
    "print(building_estate/total_debtors, 'доля должников с целью строительства недвижимости')\n",
    "print(repair_payment/total_debtors, 'доля должников с целью ремонта')\n",
    "print(marriage_payment/total_debtors, 'доля должников с целью проведения свадьбы')\n",
    "print(education_payment/total_debtors, 'доля должников с целью улучшения образования')\n",
    "\n",
    "df_goals = data.pivot_table(index = 'debt', columns = 'categorized_purpose', values = 'education', aggfunc = 'count')\n",
    "df_goals = df_goals.transpose()\n",
    "df_goals['total_clients'] = df_goals[1] + df_goals[0]\n",
    "df_goals['debt_of_all_clients'] = df_goals[1] / df_goals['total_clients']\n",
    "df_goals = df_goals.transpose()\n",
    "print(df_goals)"
   ]
  },
  {
   "cell_type": "markdown",
   "metadata": {},
   "source": [
    "### Conclusion\n",
    "The most non-refundable purposes of obtaining a loan: buying real estate, buying a car, improving education. Perhaps this is due to the fact that these are rather large loans, which are harder for customers to repay. Repairs, construction and weddings are not returned much less often, most likely, these are smaller expenses and it is easier for borrowers to repay them."
   ]
  },
  {
   "cell_type": "markdown",
   "metadata": {},
   "source": [
    "###   Summary"
   ]
  },
  {
   "cell_type": "markdown",
   "metadata": {},
   "source": [
    "The most dangerous signs that indicate a high probability of non-repayment of the loan by the borrower are highlighted. Thanks to the analysis of the data provided, it is possible to make changes to the terms of the loan and reduce the number of non-performing loans."
   ]
  }
 ],
 "metadata": {
  "kernelspec": {
   "display_name": "Python 3",
   "language": "python",
   "name": "python3"
  },
  "language_info": {
   "codemirror_mode": {
    "name": "ipython",
    "version": 3
   },
   "file_extension": ".py",
   "mimetype": "text/x-python",
   "name": "python",
   "nbconvert_exporter": "python",
   "pygments_lexer": "ipython3",
   "version": "3.8.5"
  },
  "toc": {
   "base_numbering": 1,
   "nav_menu": {},
   "number_sections": true,
   "sideBar": true,
   "skip_h1_title": true,
   "title_cell": "Table of Contents",
   "title_sidebar": "Contents",
   "toc_cell": false,
   "toc_position": {},
   "toc_section_display": true,
   "toc_window_display": false
  }
 },
 "nbformat": 4,
 "nbformat_minor": 2
}
