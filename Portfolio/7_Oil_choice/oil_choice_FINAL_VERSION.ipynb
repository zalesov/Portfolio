{
 "cells": [
  {
   "cell_type": "markdown",
   "metadata": {},
   "source": [
    "# Choosing a region for oil production"
   ]
  },
  {
   "cell_type": "markdown",
   "metadata": {},
   "source": [
    "**Conditions of the problem**:\n",
    "Only linear regression is suitable for training the model (the rest are not predictable enough).\n",
    "During the exploration of the region, 500 points are explored, from which, using machine learning, the best 200 are selected for development.\n",
    "\n",
    "The budget for the development of wells in the region is 10 billion rubles.\n",
    "At current prices, one barrel of raw materials brings 450 rubles of income. The income from each unit of the product is 450 thousand rubles, since the volume is indicated in thousands of barrels.\n",
    "\n",
    "After assessing the risks, you need to leave only those regions in which the probability of losses is less than 2.5%. Among them, choose the region with the highest average profit.\n",
    "The data is synthetic."
   ]
  },
  {
   "cell_type": "markdown",
   "metadata": {},
   "source": [
    "### Data Description\n",
    "\n",
    "id is the unique identifier of the well;\n",
    "f0, f1, f2 - three signs of points (it doesn't matter what they mean, but the signs themselves are significant);\n",
    "product is the volume of reserves in the well (thousand barrels)."
   ]
  },
  {
   "cell_type": "code",
   "execution_count": 8,
   "metadata": {},
   "outputs": [],
   "source": [
    "import pandas as pd"
   ]
  },
  {
   "cell_type": "code",
   "execution_count": 9,
   "metadata": {
    "scrolled": true
   },
   "outputs": [
    {
     "data": {
      "text/html": [
       "<div>\n",
       "<style scoped>\n",
       "    .dataframe tbody tr th:only-of-type {\n",
       "        vertical-align: middle;\n",
       "    }\n",
       "\n",
       "    .dataframe tbody tr th {\n",
       "        vertical-align: top;\n",
       "    }\n",
       "\n",
       "    .dataframe thead th {\n",
       "        text-align: right;\n",
       "    }\n",
       "</style>\n",
       "<table border=\"1\" class=\"dataframe\">\n",
       "  <thead>\n",
       "    <tr style=\"text-align: right;\">\n",
       "      <th></th>\n",
       "      <th>id</th>\n",
       "      <th>f0</th>\n",
       "      <th>f1</th>\n",
       "      <th>f2</th>\n",
       "      <th>product</th>\n",
       "    </tr>\n",
       "  </thead>\n",
       "  <tbody>\n",
       "    <tr>\n",
       "      <th>0</th>\n",
       "      <td>txEyH</td>\n",
       "      <td>0.705745</td>\n",
       "      <td>-0.497823</td>\n",
       "      <td>1.221170</td>\n",
       "      <td>105.280062</td>\n",
       "    </tr>\n",
       "    <tr>\n",
       "      <th>1</th>\n",
       "      <td>2acmU</td>\n",
       "      <td>1.334711</td>\n",
       "      <td>-0.340164</td>\n",
       "      <td>4.365080</td>\n",
       "      <td>73.037750</td>\n",
       "    </tr>\n",
       "    <tr>\n",
       "      <th>2</th>\n",
       "      <td>409Wp</td>\n",
       "      <td>1.022732</td>\n",
       "      <td>0.151990</td>\n",
       "      <td>1.419926</td>\n",
       "      <td>85.265647</td>\n",
       "    </tr>\n",
       "    <tr>\n",
       "      <th>3</th>\n",
       "      <td>iJLyR</td>\n",
       "      <td>-0.032172</td>\n",
       "      <td>0.139033</td>\n",
       "      <td>2.978566</td>\n",
       "      <td>168.620776</td>\n",
       "    </tr>\n",
       "    <tr>\n",
       "      <th>4</th>\n",
       "      <td>Xdl7t</td>\n",
       "      <td>1.988431</td>\n",
       "      <td>0.155413</td>\n",
       "      <td>4.751769</td>\n",
       "      <td>154.036647</td>\n",
       "    </tr>\n",
       "  </tbody>\n",
       "</table>\n",
       "</div>"
      ],
      "text/plain": [
       "      id        f0        f1        f2     product\n",
       "0  txEyH  0.705745 -0.497823  1.221170  105.280062\n",
       "1  2acmU  1.334711 -0.340164  4.365080   73.037750\n",
       "2  409Wp  1.022732  0.151990  1.419926   85.265647\n",
       "3  iJLyR -0.032172  0.139033  2.978566  168.620776\n",
       "4  Xdl7t  1.988431  0.155413  4.751769  154.036647"
      ]
     },
     "metadata": {},
     "output_type": "display_data"
    },
    {
     "name": "stdout",
     "output_type": "stream",
     "text": [
      "<class 'pandas.core.frame.DataFrame'>\n",
      "RangeIndex: 100000 entries, 0 to 99999\n",
      "Data columns (total 5 columns):\n",
      " #   Column   Non-Null Count   Dtype  \n",
      "---  ------   --------------   -----  \n",
      " 0   id       100000 non-null  object \n",
      " 1   f0       100000 non-null  float64\n",
      " 2   f1       100000 non-null  float64\n",
      " 3   f2       100000 non-null  float64\n",
      " 4   product  100000 non-null  float64\n",
      "dtypes: float64(4), object(1)\n",
      "memory usage: 3.8+ MB\n"
     ]
    },
    {
     "data": {
      "text/plain": [
       "None"
      ]
     },
     "metadata": {},
     "output_type": "display_data"
    },
    {
     "data": {
      "text/html": [
       "<div>\n",
       "<style scoped>\n",
       "    .dataframe tbody tr th:only-of-type {\n",
       "        vertical-align: middle;\n",
       "    }\n",
       "\n",
       "    .dataframe tbody tr th {\n",
       "        vertical-align: top;\n",
       "    }\n",
       "\n",
       "    .dataframe thead th {\n",
       "        text-align: right;\n",
       "    }\n",
       "</style>\n",
       "<table border=\"1\" class=\"dataframe\">\n",
       "  <thead>\n",
       "    <tr style=\"text-align: right;\">\n",
       "      <th></th>\n",
       "      <th>f0</th>\n",
       "      <th>f1</th>\n",
       "      <th>f2</th>\n",
       "      <th>product</th>\n",
       "    </tr>\n",
       "  </thead>\n",
       "  <tbody>\n",
       "    <tr>\n",
       "      <th>count</th>\n",
       "      <td>100000.000000</td>\n",
       "      <td>100000.000000</td>\n",
       "      <td>100000.000000</td>\n",
       "      <td>100000.000000</td>\n",
       "    </tr>\n",
       "    <tr>\n",
       "      <th>mean</th>\n",
       "      <td>0.500419</td>\n",
       "      <td>0.250143</td>\n",
       "      <td>2.502647</td>\n",
       "      <td>92.500000</td>\n",
       "    </tr>\n",
       "    <tr>\n",
       "      <th>std</th>\n",
       "      <td>0.871832</td>\n",
       "      <td>0.504433</td>\n",
       "      <td>3.248248</td>\n",
       "      <td>44.288691</td>\n",
       "    </tr>\n",
       "    <tr>\n",
       "      <th>min</th>\n",
       "      <td>-1.408605</td>\n",
       "      <td>-0.848218</td>\n",
       "      <td>-12.088328</td>\n",
       "      <td>0.000000</td>\n",
       "    </tr>\n",
       "    <tr>\n",
       "      <th>25%</th>\n",
       "      <td>-0.072580</td>\n",
       "      <td>-0.200881</td>\n",
       "      <td>0.287748</td>\n",
       "      <td>56.497507</td>\n",
       "    </tr>\n",
       "    <tr>\n",
       "      <th>50%</th>\n",
       "      <td>0.502360</td>\n",
       "      <td>0.250252</td>\n",
       "      <td>2.515969</td>\n",
       "      <td>91.849972</td>\n",
       "    </tr>\n",
       "    <tr>\n",
       "      <th>75%</th>\n",
       "      <td>1.073581</td>\n",
       "      <td>0.700646</td>\n",
       "      <td>4.715088</td>\n",
       "      <td>128.564089</td>\n",
       "    </tr>\n",
       "    <tr>\n",
       "      <th>max</th>\n",
       "      <td>2.362331</td>\n",
       "      <td>1.343769</td>\n",
       "      <td>16.003790</td>\n",
       "      <td>185.364347</td>\n",
       "    </tr>\n",
       "  </tbody>\n",
       "</table>\n",
       "</div>"
      ],
      "text/plain": [
       "                  f0             f1             f2        product\n",
       "count  100000.000000  100000.000000  100000.000000  100000.000000\n",
       "mean        0.500419       0.250143       2.502647      92.500000\n",
       "std         0.871832       0.504433       3.248248      44.288691\n",
       "min        -1.408605      -0.848218     -12.088328       0.000000\n",
       "25%        -0.072580      -0.200881       0.287748      56.497507\n",
       "50%         0.502360       0.250252       2.515969      91.849972\n",
       "75%         1.073581       0.700646       4.715088     128.564089\n",
       "max         2.362331       1.343769      16.003790     185.364347"
      ]
     },
     "metadata": {},
     "output_type": "display_data"
    }
   ],
   "source": [
    "data1 = pd.read_csv('/Users/alexey_zalesov/Desktop/ya_prakrikum/ds/datasets/geo_data_0.csv')\n",
    "data2 = pd.read_csv('/Users/alexey_zalesov/Desktop/ya_prakrikum/ds/datasets/geo_data_1.csv')\n",
    "data3 = pd.read_csv('/Users/alexey_zalesov/Desktop/ya_prakrikum/ds/datasets/geo_data_2.csv')\n",
    "\n",
    "display(data1.head())\n",
    "display(data1.info())\n",
    "display(data1.describe())\n",
    "\n"
   ]
  },
  {
   "cell_type": "code",
   "execution_count": 10,
   "metadata": {},
   "outputs": [
    {
     "name": "stdout",
     "output_type": "stream",
     "text": [
      "10\n",
      "0\n",
      "0\n",
      "0\n",
      "0\n"
     ]
    }
   ],
   "source": [
    "print(data1['id'].duplicated().sum())\n",
    "print(data1['f0'].duplicated().sum())\n",
    "print(data1['f1'].duplicated().sum())\n",
    "print(data1['f2'].duplicated().sum())\n",
    "print(data1['product'].duplicated().sum())"
   ]
  },
  {
   "cell_type": "markdown",
   "metadata": {},
   "source": [
    "In the 'id' column there are 10 duplicates - that is 0.01% of the total number of rows, I suggest removing them"
   ]
  },
  {
   "cell_type": "code",
   "execution_count": 11,
   "metadata": {},
   "outputs": [
    {
     "name": "stdout",
     "output_type": "stream",
     "text": [
      "0\n"
     ]
    }
   ],
   "source": [
    "data1 = data1.drop_duplicates(subset='id', keep='first', inplace=False).reset_index(drop=True)\n",
    "print(data1['id'].duplicated().sum())\n",
    "\n"
   ]
  },
  {
   "cell_type": "code",
   "execution_count": 12,
   "metadata": {
    "scrolled": true
   },
   "outputs": [
    {
     "data": {
      "text/html": [
       "<div>\n",
       "<style scoped>\n",
       "    .dataframe tbody tr th:only-of-type {\n",
       "        vertical-align: middle;\n",
       "    }\n",
       "\n",
       "    .dataframe tbody tr th {\n",
       "        vertical-align: top;\n",
       "    }\n",
       "\n",
       "    .dataframe thead th {\n",
       "        text-align: right;\n",
       "    }\n",
       "</style>\n",
       "<table border=\"1\" class=\"dataframe\">\n",
       "  <thead>\n",
       "    <tr style=\"text-align: right;\">\n",
       "      <th></th>\n",
       "      <th>id</th>\n",
       "      <th>f0</th>\n",
       "      <th>f1</th>\n",
       "      <th>f2</th>\n",
       "      <th>product</th>\n",
       "    </tr>\n",
       "  </thead>\n",
       "  <tbody>\n",
       "    <tr>\n",
       "      <th>0</th>\n",
       "      <td>kBEdx</td>\n",
       "      <td>-15.001348</td>\n",
       "      <td>-8.276000</td>\n",
       "      <td>-0.005876</td>\n",
       "      <td>3.179103</td>\n",
       "    </tr>\n",
       "    <tr>\n",
       "      <th>1</th>\n",
       "      <td>62mP7</td>\n",
       "      <td>14.272088</td>\n",
       "      <td>-3.475083</td>\n",
       "      <td>0.999183</td>\n",
       "      <td>26.953261</td>\n",
       "    </tr>\n",
       "    <tr>\n",
       "      <th>2</th>\n",
       "      <td>vyE1P</td>\n",
       "      <td>6.263187</td>\n",
       "      <td>-5.948386</td>\n",
       "      <td>5.001160</td>\n",
       "      <td>134.766305</td>\n",
       "    </tr>\n",
       "    <tr>\n",
       "      <th>3</th>\n",
       "      <td>KcrkZ</td>\n",
       "      <td>-13.081196</td>\n",
       "      <td>-11.506057</td>\n",
       "      <td>4.999415</td>\n",
       "      <td>137.945408</td>\n",
       "    </tr>\n",
       "    <tr>\n",
       "      <th>4</th>\n",
       "      <td>AHL4O</td>\n",
       "      <td>12.702195</td>\n",
       "      <td>-8.147433</td>\n",
       "      <td>5.004363</td>\n",
       "      <td>134.766305</td>\n",
       "    </tr>\n",
       "  </tbody>\n",
       "</table>\n",
       "</div>"
      ],
      "text/plain": [
       "      id         f0         f1        f2     product\n",
       "0  kBEdx -15.001348  -8.276000 -0.005876    3.179103\n",
       "1  62mP7  14.272088  -3.475083  0.999183   26.953261\n",
       "2  vyE1P   6.263187  -5.948386  5.001160  134.766305\n",
       "3  KcrkZ -13.081196 -11.506057  4.999415  137.945408\n",
       "4  AHL4O  12.702195  -8.147433  5.004363  134.766305"
      ]
     },
     "metadata": {},
     "output_type": "display_data"
    },
    {
     "name": "stdout",
     "output_type": "stream",
     "text": [
      "<class 'pandas.core.frame.DataFrame'>\n",
      "RangeIndex: 100000 entries, 0 to 99999\n",
      "Data columns (total 5 columns):\n",
      " #   Column   Non-Null Count   Dtype  \n",
      "---  ------   --------------   -----  \n",
      " 0   id       100000 non-null  object \n",
      " 1   f0       100000 non-null  float64\n",
      " 2   f1       100000 non-null  float64\n",
      " 3   f2       100000 non-null  float64\n",
      " 4   product  100000 non-null  float64\n",
      "dtypes: float64(4), object(1)\n",
      "memory usage: 3.8+ MB\n"
     ]
    },
    {
     "data": {
      "text/plain": [
       "None"
      ]
     },
     "metadata": {},
     "output_type": "display_data"
    },
    {
     "data": {
      "text/html": [
       "<div>\n",
       "<style scoped>\n",
       "    .dataframe tbody tr th:only-of-type {\n",
       "        vertical-align: middle;\n",
       "    }\n",
       "\n",
       "    .dataframe tbody tr th {\n",
       "        vertical-align: top;\n",
       "    }\n",
       "\n",
       "    .dataframe thead th {\n",
       "        text-align: right;\n",
       "    }\n",
       "</style>\n",
       "<table border=\"1\" class=\"dataframe\">\n",
       "  <thead>\n",
       "    <tr style=\"text-align: right;\">\n",
       "      <th></th>\n",
       "      <th>f0</th>\n",
       "      <th>f1</th>\n",
       "      <th>f2</th>\n",
       "      <th>product</th>\n",
       "    </tr>\n",
       "  </thead>\n",
       "  <tbody>\n",
       "    <tr>\n",
       "      <th>count</th>\n",
       "      <td>100000.000000</td>\n",
       "      <td>100000.000000</td>\n",
       "      <td>100000.000000</td>\n",
       "      <td>100000.000000</td>\n",
       "    </tr>\n",
       "    <tr>\n",
       "      <th>mean</th>\n",
       "      <td>1.141296</td>\n",
       "      <td>-4.796579</td>\n",
       "      <td>2.494541</td>\n",
       "      <td>68.825000</td>\n",
       "    </tr>\n",
       "    <tr>\n",
       "      <th>std</th>\n",
       "      <td>8.965932</td>\n",
       "      <td>5.119872</td>\n",
       "      <td>1.703572</td>\n",
       "      <td>45.944423</td>\n",
       "    </tr>\n",
       "    <tr>\n",
       "      <th>min</th>\n",
       "      <td>-31.609576</td>\n",
       "      <td>-26.358598</td>\n",
       "      <td>-0.018144</td>\n",
       "      <td>0.000000</td>\n",
       "    </tr>\n",
       "    <tr>\n",
       "      <th>25%</th>\n",
       "      <td>-6.298551</td>\n",
       "      <td>-8.267985</td>\n",
       "      <td>1.000021</td>\n",
       "      <td>26.953261</td>\n",
       "    </tr>\n",
       "    <tr>\n",
       "      <th>50%</th>\n",
       "      <td>1.153055</td>\n",
       "      <td>-4.813172</td>\n",
       "      <td>2.011479</td>\n",
       "      <td>57.085625</td>\n",
       "    </tr>\n",
       "    <tr>\n",
       "      <th>75%</th>\n",
       "      <td>8.621015</td>\n",
       "      <td>-1.332816</td>\n",
       "      <td>3.999904</td>\n",
       "      <td>107.813044</td>\n",
       "    </tr>\n",
       "    <tr>\n",
       "      <th>max</th>\n",
       "      <td>29.421755</td>\n",
       "      <td>18.734063</td>\n",
       "      <td>5.019721</td>\n",
       "      <td>137.945408</td>\n",
       "    </tr>\n",
       "  </tbody>\n",
       "</table>\n",
       "</div>"
      ],
      "text/plain": [
       "                  f0             f1             f2        product\n",
       "count  100000.000000  100000.000000  100000.000000  100000.000000\n",
       "mean        1.141296      -4.796579       2.494541      68.825000\n",
       "std         8.965932       5.119872       1.703572      45.944423\n",
       "min       -31.609576     -26.358598      -0.018144       0.000000\n",
       "25%        -6.298551      -8.267985       1.000021      26.953261\n",
       "50%         1.153055      -4.813172       2.011479      57.085625\n",
       "75%         8.621015      -1.332816       3.999904     107.813044\n",
       "max        29.421755      18.734063       5.019721     137.945408"
      ]
     },
     "metadata": {},
     "output_type": "display_data"
    }
   ],
   "source": [
    "display(data2.head())\n",
    "display(data2.info())\n",
    "display(data2.describe())\n"
   ]
  },
  {
   "cell_type": "code",
   "execution_count": 13,
   "metadata": {},
   "outputs": [
    {
     "name": "stdout",
     "output_type": "stream",
     "text": [
      "4\n",
      "0\n",
      "0\n",
      "0\n",
      "99988\n"
     ]
    }
   ],
   "source": [
    "print(data2['id'].duplicated().sum())\n",
    "print(data2['f0'].duplicated().sum())\n",
    "print(data2['f1'].duplicated().sum())\n",
    "print(data2['f2'].duplicated().sum())\n",
    "print(data2['product'].duplicated().sum())"
   ]
  },
  {
   "cell_type": "markdown",
   "metadata": {},
   "source": [
    "There are 4 duplicates in the 'id' column - this is 0.004% of the total number of rows, I suggest removing them."
   ]
  },
  {
   "cell_type": "code",
   "execution_count": 14,
   "metadata": {
    "scrolled": true
   },
   "outputs": [
    {
     "name": "stdout",
     "output_type": "stream",
     "text": [
      "0\n",
      "<class 'pandas.core.frame.DataFrame'>\n",
      "RangeIndex: 99996 entries, 0 to 99995\n",
      "Data columns (total 5 columns):\n",
      " #   Column   Non-Null Count  Dtype  \n",
      "---  ------   --------------  -----  \n",
      " 0   id       99996 non-null  object \n",
      " 1   f0       99996 non-null  float64\n",
      " 2   f1       99996 non-null  float64\n",
      " 3   f2       99996 non-null  float64\n",
      " 4   product  99996 non-null  float64\n",
      "dtypes: float64(4), object(1)\n",
      "memory usage: 3.8+ MB\n",
      "None\n",
      "\n",
      " [  3.17910258  26.95326103 134.76630516 137.94540774  84.03888568\n",
      " 110.99214671  53.90652206   0.         107.81304413  57.08562465\n",
      "  30.13236361  80.85978309]\n"
     ]
    }
   ],
   "source": [
    "data2 = data2.drop_duplicates(subset='id', keep='first', inplace=False).reset_index(drop=True)\n",
    "print(data2['id'].duplicated().sum())\n",
    "\n",
    "print(data2.info())\n",
    "\n",
    "\n",
    "print('\\n', data2['product'].unique())"
   ]
  },
  {
   "cell_type": "markdown",
   "metadata": {},
   "source": [
    "There are 99988 duplicates in the \"product\" column. I think to leave it as is, but it looks like there is an error in the data collection or upload - only 12 unique values ​​per 100,000 rows! Since, according to the condition of the problem, it is the predictions of the model, and not the actual values, that are important for us to calculate the profit, we can build a model using such data. In any case, even predictions made from such data should be treated with caution."
   ]
  },
  {
   "cell_type": "code",
   "execution_count": 15,
   "metadata": {
    "scrolled": false
   },
   "outputs": [
    {
     "data": {
      "text/html": [
       "<div>\n",
       "<style scoped>\n",
       "    .dataframe tbody tr th:only-of-type {\n",
       "        vertical-align: middle;\n",
       "    }\n",
       "\n",
       "    .dataframe tbody tr th {\n",
       "        vertical-align: top;\n",
       "    }\n",
       "\n",
       "    .dataframe thead th {\n",
       "        text-align: right;\n",
       "    }\n",
       "</style>\n",
       "<table border=\"1\" class=\"dataframe\">\n",
       "  <thead>\n",
       "    <tr style=\"text-align: right;\">\n",
       "      <th></th>\n",
       "      <th>id</th>\n",
       "      <th>f0</th>\n",
       "      <th>f1</th>\n",
       "      <th>f2</th>\n",
       "      <th>product</th>\n",
       "    </tr>\n",
       "  </thead>\n",
       "  <tbody>\n",
       "    <tr>\n",
       "      <th>0</th>\n",
       "      <td>fwXo0</td>\n",
       "      <td>-1.146987</td>\n",
       "      <td>0.963328</td>\n",
       "      <td>-0.828965</td>\n",
       "      <td>27.758673</td>\n",
       "    </tr>\n",
       "    <tr>\n",
       "      <th>1</th>\n",
       "      <td>WJtFt</td>\n",
       "      <td>0.262778</td>\n",
       "      <td>0.269839</td>\n",
       "      <td>-2.530187</td>\n",
       "      <td>56.069697</td>\n",
       "    </tr>\n",
       "    <tr>\n",
       "      <th>2</th>\n",
       "      <td>ovLUW</td>\n",
       "      <td>0.194587</td>\n",
       "      <td>0.289035</td>\n",
       "      <td>-5.586433</td>\n",
       "      <td>62.871910</td>\n",
       "    </tr>\n",
       "    <tr>\n",
       "      <th>3</th>\n",
       "      <td>q6cA6</td>\n",
       "      <td>2.236060</td>\n",
       "      <td>-0.553760</td>\n",
       "      <td>0.930038</td>\n",
       "      <td>114.572842</td>\n",
       "    </tr>\n",
       "    <tr>\n",
       "      <th>4</th>\n",
       "      <td>WPMUX</td>\n",
       "      <td>-0.515993</td>\n",
       "      <td>1.716266</td>\n",
       "      <td>5.899011</td>\n",
       "      <td>149.600746</td>\n",
       "    </tr>\n",
       "  </tbody>\n",
       "</table>\n",
       "</div>"
      ],
      "text/plain": [
       "      id        f0        f1        f2     product\n",
       "0  fwXo0 -1.146987  0.963328 -0.828965   27.758673\n",
       "1  WJtFt  0.262778  0.269839 -2.530187   56.069697\n",
       "2  ovLUW  0.194587  0.289035 -5.586433   62.871910\n",
       "3  q6cA6  2.236060 -0.553760  0.930038  114.572842\n",
       "4  WPMUX -0.515993  1.716266  5.899011  149.600746"
      ]
     },
     "metadata": {},
     "output_type": "display_data"
    },
    {
     "name": "stdout",
     "output_type": "stream",
     "text": [
      "<class 'pandas.core.frame.DataFrame'>\n",
      "RangeIndex: 100000 entries, 0 to 99999\n",
      "Data columns (total 5 columns):\n",
      " #   Column   Non-Null Count   Dtype  \n",
      "---  ------   --------------   -----  \n",
      " 0   id       100000 non-null  object \n",
      " 1   f0       100000 non-null  float64\n",
      " 2   f1       100000 non-null  float64\n",
      " 3   f2       100000 non-null  float64\n",
      " 4   product  100000 non-null  float64\n",
      "dtypes: float64(4), object(1)\n",
      "memory usage: 3.8+ MB\n"
     ]
    },
    {
     "data": {
      "text/plain": [
       "None"
      ]
     },
     "metadata": {},
     "output_type": "display_data"
    },
    {
     "data": {
      "text/html": [
       "<div>\n",
       "<style scoped>\n",
       "    .dataframe tbody tr th:only-of-type {\n",
       "        vertical-align: middle;\n",
       "    }\n",
       "\n",
       "    .dataframe tbody tr th {\n",
       "        vertical-align: top;\n",
       "    }\n",
       "\n",
       "    .dataframe thead th {\n",
       "        text-align: right;\n",
       "    }\n",
       "</style>\n",
       "<table border=\"1\" class=\"dataframe\">\n",
       "  <thead>\n",
       "    <tr style=\"text-align: right;\">\n",
       "      <th></th>\n",
       "      <th>f0</th>\n",
       "      <th>f1</th>\n",
       "      <th>f2</th>\n",
       "      <th>product</th>\n",
       "    </tr>\n",
       "  </thead>\n",
       "  <tbody>\n",
       "    <tr>\n",
       "      <th>count</th>\n",
       "      <td>100000.000000</td>\n",
       "      <td>100000.000000</td>\n",
       "      <td>100000.000000</td>\n",
       "      <td>100000.000000</td>\n",
       "    </tr>\n",
       "    <tr>\n",
       "      <th>mean</th>\n",
       "      <td>0.002023</td>\n",
       "      <td>-0.002081</td>\n",
       "      <td>2.495128</td>\n",
       "      <td>95.000000</td>\n",
       "    </tr>\n",
       "    <tr>\n",
       "      <th>std</th>\n",
       "      <td>1.732045</td>\n",
       "      <td>1.730417</td>\n",
       "      <td>3.473445</td>\n",
       "      <td>44.749921</td>\n",
       "    </tr>\n",
       "    <tr>\n",
       "      <th>min</th>\n",
       "      <td>-8.760004</td>\n",
       "      <td>-7.084020</td>\n",
       "      <td>-11.970335</td>\n",
       "      <td>0.000000</td>\n",
       "    </tr>\n",
       "    <tr>\n",
       "      <th>25%</th>\n",
       "      <td>-1.162288</td>\n",
       "      <td>-1.174820</td>\n",
       "      <td>0.130359</td>\n",
       "      <td>59.450441</td>\n",
       "    </tr>\n",
       "    <tr>\n",
       "      <th>50%</th>\n",
       "      <td>0.009424</td>\n",
       "      <td>-0.009482</td>\n",
       "      <td>2.484236</td>\n",
       "      <td>94.925613</td>\n",
       "    </tr>\n",
       "    <tr>\n",
       "      <th>75%</th>\n",
       "      <td>1.158535</td>\n",
       "      <td>1.163678</td>\n",
       "      <td>4.858794</td>\n",
       "      <td>130.595027</td>\n",
       "    </tr>\n",
       "    <tr>\n",
       "      <th>max</th>\n",
       "      <td>7.238262</td>\n",
       "      <td>7.844801</td>\n",
       "      <td>16.739402</td>\n",
       "      <td>190.029838</td>\n",
       "    </tr>\n",
       "  </tbody>\n",
       "</table>\n",
       "</div>"
      ],
      "text/plain": [
       "                  f0             f1             f2        product\n",
       "count  100000.000000  100000.000000  100000.000000  100000.000000\n",
       "mean        0.002023      -0.002081       2.495128      95.000000\n",
       "std         1.732045       1.730417       3.473445      44.749921\n",
       "min        -8.760004      -7.084020     -11.970335       0.000000\n",
       "25%        -1.162288      -1.174820       0.130359      59.450441\n",
       "50%         0.009424      -0.009482       2.484236      94.925613\n",
       "75%         1.158535       1.163678       4.858794     130.595027\n",
       "max         7.238262       7.844801      16.739402     190.029838"
      ]
     },
     "metadata": {},
     "output_type": "display_data"
    }
   ],
   "source": [
    "display(data3.head())\n",
    "display(data3.info())\n",
    "display(data3.describe())\n",
    "\n"
   ]
  },
  {
   "cell_type": "code",
   "execution_count": 16,
   "metadata": {},
   "outputs": [
    {
     "name": "stdout",
     "output_type": "stream",
     "text": [
      "4\n",
      "0\n",
      "0\n",
      "0\n",
      "0\n"
     ]
    }
   ],
   "source": [
    "print(data3['id'].duplicated().sum())\n",
    "print(data3['f0'].duplicated().sum())\n",
    "print(data3['f1'].duplicated().sum())\n",
    "print(data3['f2'].duplicated().sum())\n",
    "print(data3['product'].duplicated().sum())"
   ]
  },
  {
   "cell_type": "markdown",
   "metadata": {},
   "source": [
    "There are 4 duplicates in the 'id' column - this is 0.004% of the total number of rows, I suggest removing them."
   ]
  },
  {
   "cell_type": "code",
   "execution_count": 17,
   "metadata": {},
   "outputs": [
    {
     "name": "stdout",
     "output_type": "stream",
     "text": [
      "0\n"
     ]
    }
   ],
   "source": [
    "data3 = data3.drop_duplicates(subset='id', keep='first', inplace=False).reset_index(drop=True)\n",
    "print(data3['id'].duplicated().sum())"
   ]
  },
  {
   "cell_type": "markdown",
   "metadata": {},
   "source": [
    "In all three tables for further training, we do not need the 'id' table columns, as they can interfere with the training of the model, we will remove them"
   ]
  },
  {
   "cell_type": "code",
   "execution_count": 18,
   "metadata": {
    "scrolled": true
   },
   "outputs": [
    {
     "name": "stdout",
     "output_type": "stream",
     "text": [
      "         f0        f1        f2     product\n",
      "0  0.705745 -0.497823  1.221170  105.280062\n",
      "1  1.334711 -0.340164  4.365080   73.037750\n",
      "2  1.022732  0.151990  1.419926   85.265647\n",
      "3 -0.032172  0.139033  2.978566  168.620776\n",
      "4  1.988431  0.155413  4.751769  154.036647\n"
     ]
    }
   ],
   "source": [
    "data1_noid = data1.drop('id', axis=1)\n",
    "data2_noid = data2.drop('id', axis=1)\n",
    "data3_noid = data3.drop('id', axis=1)\n",
    "\n",
    "print(data1_noid.head())"
   ]
  },
  {
   "cell_type": "markdown",
   "metadata": {},
   "source": [
    "### Summary\n",
    "\n",
    "The data is loaded and cleaned, the \"product\" column of the table 2 is questionable, the \"id\" column of each table has been removed, as it can interfere with model training."
   ]
  },
  {
   "cell_type": "markdown",
   "metadata": {},
   "source": [
    "## Fitting and testing the model"
   ]
  },
  {
   "cell_type": "code",
   "execution_count": 19,
   "metadata": {},
   "outputs": [
    {
     "name": "stdout",
     "output_type": "stream",
     "text": [
      "Регион: 0\n",
      "Средний объем предсказанного сырья: 92.57862226425914\n",
      "RMSE предсказаний модели: 37.570341521861714\n",
      "Регион: 1\n",
      "Средний объем предсказанного сырья: 68.84106333273714\n",
      "RMSE предсказаний модели: 0.8924791165307249\n",
      "Регион: 2\n",
      "Средний объем предсказанного сырья: 95.03054351091359\n",
      "RMSE предсказаний модели: 40.06448231599361\n"
     ]
    }
   ],
   "source": [
    "from sklearn.linear_model import LinearRegression\n",
    "from sklearn.model_selection import train_test_split\n",
    "from sklearn.metrics import mean_squared_error\n",
    "\n",
    "df_all = [\n",
    "    data1.drop('id', axis=1),\n",
    "    data2.drop('id', axis=1),\n",
    "    data3.drop('id', axis=1),\n",
    "]\n",
    "\n",
    "s_target = []\n",
    "s_predictions = []\n",
    "for regions in range(len(df_all)):\n",
    "    data = df_all[regions]\n",
    "    features = data.drop('product', axis=1)\n",
    "    target = data['product']\n",
    "    features_train, features_valid, target_train, target_valid = train_test_split(features, target,\n",
    "                                                                                  test_size=0.25 )\n",
    "    \n",
    "    model=LinearRegression()\n",
    "    model.fit(features_train, target_train)\n",
    "    predictions = model.predict(features_valid)\n",
    "    s_target.append(target_valid.reset_index(drop=True))\n",
    "    s_predictions.append(pd.Series(predictions))\n",
    "    \n",
    "    rmse_score=(mean_squared_error(target_valid, predictions))**(1/2)\n",
    "    print('Регион:' , regions)\n",
    "    print('Средний объем предсказанного сырья:', predictions.mean())\n",
    "    print('RMSE предсказаний модели:', rmse_score)\n",
    "    \n"
   ]
  },
  {
   "cell_type": "markdown",
   "metadata": {},
   "source": [
    "## Let's train the model of the first region"
   ]
  },
  {
   "cell_type": "code",
   "execution_count": 20,
   "metadata": {},
   "outputs": [],
   "source": [
    "features1 = data1_noid.drop('product', axis=1)\n",
    "train1 = data1_noid['product']\n",
    "\n",
    "features1_train, features1_valid, target1_train, target1_valid = train_test_split(features1, train1,\n",
    "                                                                                  test_size=0.25 )\n"
   ]
  },
  {
   "cell_type": "code",
   "execution_count": 21,
   "metadata": {},
   "outputs": [
    {
     "name": "stdout",
     "output_type": "stream",
     "text": [
      "Средний объем предсказанного сырья: 92.38673677246646\n",
      "RMSE предсказаний модели: 37.78767255834494\n"
     ]
    }
   ],
   "source": [
    "model1 = LinearRegression()\n",
    "model1.fit(features1_train, target1_train)\n",
    "\n",
    "predictions1 = pd.Series(model1.predict(features1_valid))\n",
    "rmse_score=(mean_squared_error(target1_valid, predictions1))**(1/2)\n",
    "\n",
    "print('Средний объем предсказанного сырья:', predictions1.mean())\n",
    "print('RMSE предсказаний модели:', rmse_score)"
   ]
  },
  {
   "cell_type": "markdown",
   "metadata": {},
   "source": [
    "## Let's train the model of the second region:"
   ]
  },
  {
   "cell_type": "code",
   "execution_count": 22,
   "metadata": {},
   "outputs": [],
   "source": [
    "features2 = data2_noid.drop('product', axis=1)\n",
    "train2 = data2_noid['product']\n",
    "\n",
    "features2_train, features2_valid, target2_train, target2_valid = train_test_split(features2, train2,\n",
    "                                                                                  test_size=0.25 )\n",
    "\n"
   ]
  },
  {
   "cell_type": "code",
   "execution_count": 23,
   "metadata": {},
   "outputs": [
    {
     "name": "stdout",
     "output_type": "stream",
     "text": [
      "Средний объем предсказанного сырья: 68.52053547458968\n",
      "RMSE предсказаний модели: 0.8957030571768625\n"
     ]
    }
   ],
   "source": [
    "model2 = LinearRegression()\n",
    "model2.fit(features2_train, target2_train)\n",
    "\n",
    "predictions2 = pd.Series(model2.predict(features2_valid))\n",
    "rmse_score=(mean_squared_error(target2_valid, predictions2))**(1/2)\n",
    "\n",
    "print('Средний объем предсказанного сырья:', predictions2.mean())\n",
    "print('RMSE предсказаний модели:', rmse_score)"
   ]
  },
  {
   "cell_type": "markdown",
   "metadata": {},
   "source": [
    "## Let's train the model of the third region:\n"
   ]
  },
  {
   "cell_type": "code",
   "execution_count": 24,
   "metadata": {},
   "outputs": [],
   "source": [
    "features3 = data3_noid.drop('product', axis=1)\n",
    "train3 = data3_noid['product']\n",
    "\n",
    "features3_train, features3_valid, target3_train, target3_valid = train_test_split(features3, train3,\n",
    "                                                                                  test_size=0.25 )\n",
    "\n",
    "\n"
   ]
  },
  {
   "cell_type": "code",
   "execution_count": 25,
   "metadata": {},
   "outputs": [
    {
     "name": "stdout",
     "output_type": "stream",
     "text": [
      "Средний объем предсказанного сырья: 94.72977045103339\n",
      "RMSE предсказаний модели: 39.93745234497248\n"
     ]
    }
   ],
   "source": [
    "model3 = LinearRegression()\n",
    "model3.fit(features3_train, target3_train)\n",
    "\n",
    "predictions3 = pd.Series(model3.predict(features3_valid))\n",
    "rmse_score=(mean_squared_error(target3_valid, predictions3))**(1/2)\n",
    "\n",
    "print('Средний объем предсказанного сырья:', predictions3.mean())\n",
    "print('RMSE предсказаний модели:', rmse_score)"
   ]
  },
  {
   "cell_type": "markdown",
   "metadata": {},
   "source": [
    "## Summary\n",
    "In the first and third regions, the average volume of predicted raw materials and RMSE are similar. In the second region, the average volume is much larger, but the RMSE is also three times larger - most likely, this was influenced by the \"product\" values ​​(there are only 12 unique values) - and the model makes predictions based on these \"few\" values, and from this such spread of values ​​and, accordingly, the value of RMSE."
   ]
  },
  {
   "cell_type": "markdown",
   "metadata": {},
   "source": [
    "## Preparation for profit calculation:\n",
    "\n"
   ]
  },
  {
   "cell_type": "markdown",
   "metadata": {},
   "source": [
    "Let's save important values separately: "
   ]
  },
  {
   "cell_type": "code",
   "execution_count": 26,
   "metadata": {},
   "outputs": [
    {
     "name": "stdout",
     "output_type": "stream",
     "text": [
      "22222.222222222223\n"
     ]
    }
   ],
   "source": [
    "spots_count = 200\n",
    "budget = 10000000000\n",
    "revenue_perr_unit = 450000\n",
    "\n",
    "min_volume_units = budget/revenue_perr_unit\n",
    "print(min_volume_units)"
   ]
  },
  {
   "cell_type": "markdown",
   "metadata": {},
   "source": [
    "We have access to the information about the total budget for the development of the region, there are no data on the costs of developing one well in general or specific wells, also the total budget =/= costs, but in this context, it will be considered that the total budget is the maximum available amount that the company is ready to spend, and you need to predict the region that will bring the maximum profit and loss with the minimum probability."
   ]
  },
  {
   "cell_type": "code",
   "execution_count": 27,
   "metadata": {},
   "outputs": [
    {
     "name": "stdout",
     "output_type": "stream",
     "text": [
      "Минимальный средний запас сырья на одной скважине для безубыточной добычи: 111.11111111111111\n"
     ]
    }
   ],
   "source": [
    "#расчитываем минимумальный запас сырья для одной скважины:\n",
    "min_volume_units_perr_spot = min_volume_units/200\n",
    "print('Минимальный средний запас сырья на одной скважине для безубыточной добычи:', min_volume_units_perr_spot)"
   ]
  },
  {
   "cell_type": "markdown",
   "metadata": {},
   "source": [
    "### Summary\n",
    "\n",
    "For break-even production, the well must have at least 111.(1) units of product, while the average volume of reserves predicted by the model in each region is less."
   ]
  },
  {
   "cell_type": "markdown",
   "metadata": {},
   "source": [
    "## Calculation of profit and risks \n",
    "\n"
   ]
  },
  {
   "cell_type": "code",
   "execution_count": 28,
   "metadata": {},
   "outputs": [],
   "source": [
    "#def calculate_profit(predictions, target, count):\n",
    "#    predictions_sorted = predictions.sort_values(ascending=False)[:count].index\n",
    "#    spots = target.iloc[predictions_sorted]\n",
    "#    spots_sum = sum(spots)\n",
    "#    profit = spots_sum*revenue_perr_unit-budget\n",
    "#    return profit\n",
    "\n",
    "\n",
    "#print(len(s_target[0]))\n",
    "#print(len(s_predictions[]))"
   ]
  },
  {
   "cell_type": "code",
   "execution_count": 29,
   "metadata": {},
   "outputs": [
    {
     "name": "stdout",
     "output_type": "stream",
     "text": [
      "Ожидаемая прибыль региона-1 3148965019.291504\n",
      "Ожидаемая прибыль региона-2 2415086696.681511\n",
      "Ожидаемая прибыль региона-3 2371496755.735529\n"
     ]
    }
   ],
   "source": [
    "def calculate_profit(predict, target, count):\n",
    "    predict_sorted = predict.sort_values(ascending=False)\n",
    "    selected_points = target[predict_sorted.index][:count]\n",
    "    product = selected_points.sum()\n",
    "    revenue = product * revenue_perr_unit\n",
    "    return revenue - budget\n",
    "\n",
    "\n",
    "region_1_profit = calculate_profit(s_predictions[0], s_target[0], spots_count)\n",
    "print(\"Ожидаемая прибыль региона-1\", region_1_profit )\n",
    "\n",
    "region_2_profit = calculate_profit(s_predictions[1], s_target[1], spots_count)\n",
    "print(\"Ожидаемая прибыль региона-2\", region_2_profit )\n",
    "\n",
    "\n",
    "region_3_profit = calculate_profit(s_predictions[2], s_target[2], spots_count)\n",
    "print(\"Ожидаемая прибыль региона-3\", region_3_profit )"
   ]
  },
  {
   "cell_type": "markdown",
   "metadata": {},
   "source": [
    "### Let's find the profit distribution:"
   ]
  },
  {
   "cell_type": "code",
   "execution_count": 30,
   "metadata": {},
   "outputs": [],
   "source": [
    "from numpy.random import RandomState\n",
    "\n",
    "state = RandomState(12345)"
   ]
  },
  {
   "cell_type": "code",
   "execution_count": 31,
   "metadata": {},
   "outputs": [
    {
     "name": "stdout",
     "output_type": "stream",
     "text": [
      "Количество выборок по каждому региону с отрицательной прибылью: {0: 35, 1: 7, 2: 117}\n",
      "%:\n",
      "0 0.035\n",
      "1 0.007\n",
      "2 0.117\n",
      "Регион: 1\n",
      "Средняя выручка в регионе: 503316975.6533433\n",
      "Нижняя граница 95% доверительного интервала: -26809629.88465948\n",
      "Верхняя граница 95% доверительного интервала: 1046563176.1538367\n",
      "Регион: 2\n",
      "Средняя выручка в регионе: 492895645.73553723\n",
      "Нижняя граница 95% доверительного интервала: 71662887.88726594\n",
      "Верхняя граница 95% доверительного интервала: 934332588.7863281\n",
      "Регион: 3\n",
      "Средняя выручка в регионе: 330234950.49256986\n",
      "Нижняя граница 95% доверительного интервала: -210883303.0859171\n",
      "Верхняя граница 95% доверительного интервала: 884283423.5157435\n"
     ]
    }
   ],
   "source": [
    "values=[[],[],[]]\n",
    "counters={}\n",
    "\n",
    "for region in range(len(s_target)):\n",
    "    counter=0\n",
    "    for i in range(1000):\n",
    "        target_sample = s_target[region].sample(500, replace=True, random_state=state)\n",
    "        predicted_values = s_predictions[region][target_sample.index]\n",
    "        profit = calculate_profit(predicted_values, target_sample, 200)\n",
    "        values[region].append(profit)\n",
    "        if profit<0:\n",
    "            counter+=1\n",
    "    counters.update({region:counter})\n",
    "            \n",
    "        \n",
    "print('Количество выборок по каждому региону с отрицательной прибылью:',counters)\n",
    "print('%:' )\n",
    "my_list = list(counters.values())\n",
    "for i in range(3):\n",
    "    print(i,my_list[i]/1000)\n",
    "\n",
    "\n",
    "values_0 = pd.Series(values[0])\n",
    "lower_0 = values_0.quantile(q=0.025)\n",
    "upper_0 = values_0.quantile(q=0.975)\n",
    "\n",
    "values_1 = pd.Series(values[1])\n",
    "lower_1 = values_1.quantile(q=0.025)\n",
    "upper_1 = values_1.quantile(q=0.975)\n",
    "\n",
    "\n",
    "values_2 = pd.Series(values[2])\n",
    "lower_2 = values_2.quantile(q=0.025)\n",
    "upper_2 = values_2.quantile(q=0.975)\n",
    "\n",
    "print(\"Регион:\", 1)\n",
    "print('Средняя выручка в регионе:', values_0.mean())\n",
    "print(\"Нижняя граница 95% доверительного интервала:\", lower_0)\n",
    "print(\"Верхняя граница 95% доверительного интервала:\", upper_0)\n",
    "print(\"Регион:\", 2)\n",
    "print('Средняя выручка в регионе:', values_1.mean())\n",
    "print(\"Нижняя граница 95% доверительного интервала:\", lower_1)\n",
    "print(\"Верхняя граница 95% доверительного интервала:\", upper_1)\n",
    "print(\"Регион:\", 3)\n",
    "print('Средняя выручка в регионе:', values_2.mean())\n",
    "print(\"Нижняя граница 95% доверительного интервала:\", lower_2)\n",
    "print(\"Верхняя граница 95% доверительного интервала:\", upper_2)\n",
    "\n",
    "\n"
   ]
  },
  {
   "cell_type": "markdown",
   "metadata": {},
   "source": [
    "## Conclusion\n",
    "\n",
    "The model showed the highest profit in the third region. The RMSE of the third region is comparable to the RMSE of the first region. The region's RMSE 2 is small, but this may be due to the number of duplicates in the target column of the table. Also, the third region showed the smallest average negative profit of the lower threshold of the 95% confidence interval compared to the first. Based on the best profit, the lowest possible average loss and the inability to trust the RMSE value of the model for the 2nd region, I suggest choosing the third region for development."
   ]
  }
 ],
 "metadata": {
  "ExecuteTimeLog": [
   {
    "duration": 3174,
    "start_time": "2021-10-08T06:29:27.449Z"
   },
   {
    "duration": 162,
    "start_time": "2021-10-08T06:29:30.626Z"
   },
   {
    "duration": 120,
    "start_time": "2021-10-08T06:29:30.791Z"
   },
   {
    "duration": 196,
    "start_time": "2021-10-08T06:29:30.914Z"
   },
   {
    "duration": 97,
    "start_time": "2021-10-08T06:29:31.113Z"
   },
   {
    "duration": 186,
    "start_time": "2021-10-08T06:29:31.213Z"
   },
   {
    "duration": 198,
    "start_time": "2021-10-08T06:29:31.402Z"
   },
   {
    "duration": 94,
    "start_time": "2021-10-08T06:29:31.604Z"
   },
   {
    "duration": 121,
    "start_time": "2021-10-08T06:29:31.701Z"
   },
   {
    "duration": 77,
    "start_time": "2021-10-08T06:29:31.824Z"
   },
   {
    "duration": 1212,
    "start_time": "2021-10-08T06:32:20.082Z"
   },
   {
    "duration": 94,
    "start_time": "2021-10-08T06:32:21.297Z"
   },
   {
    "duration": 105,
    "start_time": "2021-10-08T06:32:21.395Z"
   },
   {
    "duration": 90,
    "start_time": "2021-10-08T06:32:21.503Z"
   },
   {
    "duration": 47,
    "start_time": "2021-10-08T06:32:22.138Z"
   },
   {
    "duration": 137,
    "start_time": "2021-10-08T06:32:22.352Z"
   },
   {
    "duration": 769,
    "start_time": "2021-10-08T06:37:39.227Z"
   },
   {
    "duration": 5,
    "start_time": "2021-10-08T06:37:43.010Z"
   },
   {
    "duration": 32,
    "start_time": "2021-10-08T06:37:44.898Z"
   },
   {
    "duration": 4,
    "start_time": "2021-10-08T06:45:30.581Z"
   },
   {
    "duration": 5,
    "start_time": "2021-10-08T06:45:42.478Z"
   },
   {
    "duration": 12,
    "start_time": "2021-10-08T06:45:43.190Z"
   },
   {
    "duration": 302,
    "start_time": "2021-10-08T06:45:44.272Z"
   },
   {
    "duration": 4,
    "start_time": "2021-10-08T06:46:07.223Z"
   },
   {
    "duration": 622,
    "start_time": "2021-10-08T06:46:09.609Z"
   },
   {
    "duration": 5,
    "start_time": "2021-10-08T06:47:07.874Z"
   },
   {
    "duration": 4,
    "start_time": "2021-10-08T06:47:08.645Z"
   },
   {
    "duration": 669,
    "start_time": "2021-10-08T06:47:09.296Z"
   },
   {
    "duration": 89,
    "start_time": "2021-10-08T06:47:46.493Z"
   },
   {
    "duration": 668,
    "start_time": "2021-10-08T06:47:52.566Z"
   },
   {
    "duration": 667,
    "start_time": "2021-10-08T06:49:16.991Z"
   },
   {
    "duration": 23,
    "start_time": "2021-10-08T06:49:34.061Z"
   },
   {
    "duration": 1574,
    "start_time": "2021-10-08T06:49:41.850Z"
   },
   {
    "duration": 1595,
    "start_time": "2021-10-08T06:49:48.221Z"
   },
   {
    "duration": 1602,
    "start_time": "2021-10-08T06:49:49.818Z"
   },
   {
    "duration": 4,
    "start_time": "2021-10-09T04:57:04.101Z"
   },
   {
    "duration": 323,
    "start_time": "2021-10-09T04:57:04.503Z"
   },
   {
    "duration": 261,
    "start_time": "2021-10-09T04:57:15.039Z"
   },
   {
    "duration": 256,
    "start_time": "2021-10-09T04:57:15.823Z"
   },
   {
    "duration": 1434,
    "start_time": "2021-10-09T04:57:21.998Z"
   },
   {
    "duration": 37,
    "start_time": "2021-10-09T04:57:23.435Z"
   },
   {
    "duration": 67,
    "start_time": "2021-10-09T04:57:23.475Z"
   },
   {
    "duration": 93,
    "start_time": "2021-10-09T04:57:23.545Z"
   },
   {
    "duration": 35,
    "start_time": "2021-10-09T04:57:23.640Z"
   },
   {
    "duration": 79,
    "start_time": "2021-10-09T04:57:23.677Z"
   },
   {
    "duration": 89,
    "start_time": "2021-10-09T04:57:23.758Z"
   },
   {
    "duration": 53,
    "start_time": "2021-10-09T04:57:23.849Z"
   },
   {
    "duration": 48,
    "start_time": "2021-10-09T04:57:23.906Z"
   },
   {
    "duration": 15,
    "start_time": "2021-10-09T04:57:23.957Z"
   },
   {
    "duration": 982,
    "start_time": "2021-10-09T04:57:24.333Z"
   },
   {
    "duration": 113,
    "start_time": "2021-10-09T04:57:25.400Z"
   },
   {
    "duration": 84,
    "start_time": "2021-10-09T04:57:25.516Z"
   },
   {
    "duration": 19,
    "start_time": "2021-10-09T04:57:25.739Z"
   },
   {
    "duration": 21,
    "start_time": "2021-10-09T04:57:25.927Z"
   },
   {
    "duration": 21,
    "start_time": "2021-10-09T04:57:26.279Z"
   },
   {
    "duration": 45,
    "start_time": "2021-10-09T04:57:26.458Z"
   },
   {
    "duration": 4,
    "start_time": "2021-10-09T04:57:27.815Z"
   },
   {
    "duration": 4,
    "start_time": "2021-10-09T04:57:28.331Z"
   },
   {
    "duration": 3,
    "start_time": "2021-10-09T04:57:29.147Z"
   },
   {
    "duration": 30,
    "start_time": "2021-10-09T04:57:29.504Z"
   },
   {
    "duration": 4,
    "start_time": "2021-10-09T04:57:30.202Z"
   },
   {
    "duration": 16331,
    "start_time": "2021-10-09T04:57:30.388Z"
   }
  ],
  "kernelspec": {
   "display_name": "Python 3",
   "language": "python",
   "name": "python3"
  },
  "language_info": {
   "codemirror_mode": {
    "name": "ipython",
    "version": 3
   },
   "file_extension": ".py",
   "mimetype": "text/x-python",
   "name": "python",
   "nbconvert_exporter": "python",
   "pygments_lexer": "ipython3",
   "version": "3.8.5"
  },
  "toc": {
   "base_numbering": 1,
   "nav_menu": {},
   "number_sections": true,
   "sideBar": true,
   "skip_h1_title": true,
   "title_cell": "Table of Contents",
   "title_sidebar": "Contents",
   "toc_cell": false,
   "toc_position": {},
   "toc_section_display": true,
   "toc_window_display": false
  }
 },
 "nbformat": 4,
 "nbformat_minor": 2
}
